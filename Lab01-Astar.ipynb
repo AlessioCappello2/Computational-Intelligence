{
 "cells": [
  {
   "cell_type": "markdown",
   "metadata": {},
   "source": [
    "Copyright **`(c)`** 2023 Giovanni Squillero `<giovanni.squillero@polito.it>`  \n",
    "[`https://github.com/squillero/computational-intelligence`](https://github.com/squillero/computational-intelligence)  \n",
    "Free for personal or classroom use; see [`LICENSE.md`](https://github.com/squillero/computational-intelligence/blob/master/LICENSE.md) for details.  "
   ]
  },
  {
   "cell_type": "code",
   "execution_count": 1,
   "metadata": {},
   "outputs": [],
   "source": [
    "from random import random\n",
    "from functools import reduce\n",
    "from collections import namedtuple\n",
    "from queue import PriorityQueue, SimpleQueue, LifoQueue\n",
    "import numpy as np"
   ]
  },
  {
   "cell_type": "code",
   "execution_count": 33,
   "metadata": {},
   "outputs": [],
   "source": [
    "PROBLEM_SIZE = 100\n",
    "NUM_SETS = 400\n",
    "SETS = tuple(\n",
    "    np.array([random() < 0.3 for _ in range(PROBLEM_SIZE)])\n",
    "    for _ in range(NUM_SETS)\n",
    ")\n",
    "State = namedtuple('State', ['taken', 'not_taken'])"
   ]
  },
  {
   "cell_type": "code",
   "execution_count": 22,
   "metadata": {},
   "outputs": [],
   "source": [
    "#prof = True\n",
    "def goal_check(state):\n",
    "    return np.all(reduce(\n",
    "        np.logical_or,\n",
    "        [SETS[i] for i in state.taken],\n",
    "        np.array([False for _ in range(PROBLEM_SIZE)]),\n",
    "    ))\n",
    "\n",
    "\n",
    "def h(state, current_state=None):\n",
    "    if prof:\n",
    "        '''print(\n",
    "            PROBLEM_SIZE - sum(\n",
    "            reduce(\n",
    "                np.logical_or,\n",
    "                [SETS[i] for i in state.taken],\n",
    "                np.array([False for _ in range(PROBLEM_SIZE)]),\n",
    "            ))\n",
    "        )'''\n",
    "\n",
    "        return PROBLEM_SIZE - sum(\n",
    "            reduce(\n",
    "                np.logical_or,\n",
    "                [SETS[i] for i in state.taken],\n",
    "                np.array([False for _ in range(PROBLEM_SIZE)]),\n",
    "            ))\n",
    "    else:\n",
    "        return PROBLEM_SIZE - (\n",
    "            sum(reduce(np.logical_or, [SETS[i] for i in state.taken], np.array([False for _ in range(PROBLEM_SIZE)]))\n",
    "            ^ reduce(np.logical_or, [SETS[i] for i in current_state.taken], np.array([False for _ in range(PROBLEM_SIZE)])))\n",
    "        )\n",
    "\n",
    "def g(state):\n",
    "    return len(state.taken)"
   ]
  },
  {
   "cell_type": "code",
   "execution_count": 34,
   "metadata": {},
   "outputs": [],
   "source": [
    "assert goal_check(\n",
    "    State(set(range(NUM_SETS)), set())\n",
    "), \"Problem not solvable\""
   ]
  },
  {
   "cell_type": "code",
   "execution_count": 37,
   "metadata": {},
   "outputs": [
    {
     "ename": "MemoryError",
     "evalue": "",
     "output_type": "error",
     "traceback": [
      "\u001b[1;31m---------------------------------------------------------------------------\u001b[0m",
      "\u001b[1;31mMemoryError\u001b[0m                               Traceback (most recent call last)",
      "\u001b[1;32md:\\Politecnico - Magistrale\\Computational intelligence\\myEnv\\set-covering.ipynb Cell 6\u001b[0m line \u001b[0;36m1\n\u001b[0;32m     <a href='vscode-notebook-cell:/d%3A/Politecnico%20-%20Magistrale/Computational%20intelligence/myEnv/set-covering.ipynb#W5sZmlsZQ%3D%3D?line=11'>12</a>\u001b[0m counter \u001b[39m+\u001b[39m\u001b[39m=\u001b[39m \u001b[39m1\u001b[39m\n\u001b[0;32m     <a href='vscode-notebook-cell:/d%3A/Politecnico%20-%20Magistrale/Computational%20intelligence/myEnv/set-covering.ipynb#W5sZmlsZQ%3D%3D?line=12'>13</a>\u001b[0m \u001b[39mfor\u001b[39;00m action \u001b[39min\u001b[39;00m current_state[\u001b[39m1\u001b[39m]:\n\u001b[0;32m     <a href='vscode-notebook-cell:/d%3A/Politecnico%20-%20Magistrale/Computational%20intelligence/myEnv/set-covering.ipynb#W5sZmlsZQ%3D%3D?line=13'>14</a>\u001b[0m     new_state \u001b[39m=\u001b[39m State(\n\u001b[0;32m     <a href='vscode-notebook-cell:/d%3A/Politecnico%20-%20Magistrale/Computational%20intelligence/myEnv/set-covering.ipynb#W5sZmlsZQ%3D%3D?line=14'>15</a>\u001b[0m         current_state\u001b[39m.\u001b[39mtaken \u001b[39m^\u001b[39m {action},\n\u001b[1;32m---> <a href='vscode-notebook-cell:/d%3A/Politecnico%20-%20Magistrale/Computational%20intelligence/myEnv/set-covering.ipynb#W5sZmlsZQ%3D%3D?line=15'>16</a>\u001b[0m         current_state\u001b[39m.\u001b[39;49mnot_taken \u001b[39m^\u001b[39;49m {action},\n\u001b[0;32m     <a href='vscode-notebook-cell:/d%3A/Politecnico%20-%20Magistrale/Computational%20intelligence/myEnv/set-covering.ipynb#W5sZmlsZQ%3D%3D?line=16'>17</a>\u001b[0m     )\n\u001b[0;32m     <a href='vscode-notebook-cell:/d%3A/Politecnico%20-%20Magistrale/Computational%20intelligence/myEnv/set-covering.ipynb#W5sZmlsZQ%3D%3D?line=17'>18</a>\u001b[0m     \u001b[39m#if(len(new_state.taken) > 1):\u001b[39;00m\n\u001b[0;32m     <a href='vscode-notebook-cell:/d%3A/Politecnico%20-%20Magistrale/Computational%20intelligence/myEnv/set-covering.ipynb#W5sZmlsZQ%3D%3D?line=18'>19</a>\u001b[0m         \u001b[39m#print(new_state)\u001b[39;00m\n\u001b[0;32m     <a href='vscode-notebook-cell:/d%3A/Politecnico%20-%20Magistrale/Computational%20intelligence/myEnv/set-covering.ipynb#W5sZmlsZQ%3D%3D?line=19'>20</a>\u001b[0m     frontier\u001b[39m.\u001b[39mput((h(new_state, current_state) \u001b[39mif\u001b[39;00m \u001b[39mnot\u001b[39;00m A_star \u001b[39melse\u001b[39;00m h(new_state, current_state)\u001b[39m+\u001b[39mg(new_state), new_state))\n",
      "\u001b[1;31mMemoryError\u001b[0m: "
     ]
    }
   ],
   "source": [
    "A_star = True\n",
    "prof = False\n",
    "\n",
    "frontier = PriorityQueue()\n",
    "#frontier = SimpleQueue()\n",
    "state = State(set(), set(range(NUM_SETS)))\n",
    "frontier.put((0, state))\n",
    "\n",
    "counter = 0\n",
    "_, current_state = frontier.get()\n",
    "while not goal_check(current_state):\n",
    "    counter += 1\n",
    "    for action in current_state[1]:\n",
    "        new_state = State(\n",
    "            current_state.taken ^ {action},\n",
    "            current_state.not_taken ^ {action},\n",
    "        )\n",
    "        #if(len(new_state.taken) > 1):\n",
    "            #print(new_state)\n",
    "        frontier.put((h(new_state, current_state) if not A_star else h(new_state, current_state)+g(new_state), new_state))\n",
    "    _, current_state = frontier.get()\n",
    "\n",
    "print(\n",
    "    f\"Solved in {counter:,} steps ({len(current_state.taken)} tiles)\"\n",
    ")"
   ]
  },
  {
   "cell_type": "code",
   "execution_count": 36,
   "metadata": {},
   "outputs": [
    {
     "data": {
      "text/plain": [
       "State(taken={200, 363, 77, 79, 30}, not_taken={0, 1, 2, 3, 4, 5, 6, 7, 8, 9, 10, 11, 12, 13, 14, 15, 16, 17, 18, 19, 20, 21, 22, 23, 24, 25, 26, 27, 28, 29, 31, 32, 33, 34, 35, 36, 37, 38, 39, 40, 41, 42, 43, 44, 45, 46, 47, 48, 49, 50, 51, 52, 53, 54, 55, 56, 57, 58, 59, 60, 61, 62, 63, 64, 65, 66, 67, 68, 69, 70, 71, 72, 73, 74, 75, 76, 78, 80, 81, 82, 83, 84, 85, 86, 87, 88, 89, 90, 91, 92, 93, 94, 95, 96, 97, 98, 99, 100, 101, 102, 103, 104, 105, 106, 107, 108, 109, 110, 111, 112, 113, 114, 115, 116, 117, 118, 119, 120, 121, 122, 123, 124, 125, 126, 127, 128, 129, 130, 131, 132, 133, 134, 135, 136, 137, 138, 139, 140, 141, 142, 143, 144, 145, 146, 147, 148, 149, 150, 151, 152, 153, 154, 155, 156, 157, 158, 159, 160, 161, 162, 163, 164, 165, 166, 167, 168, 169, 170, 171, 172, 173, 174, 175, 176, 177, 178, 179, 180, 181, 182, 183, 184, 185, 186, 187, 188, 189, 190, 191, 192, 193, 194, 195, 196, 197, 198, 199, 201, 202, 203, 204, 205, 206, 207, 208, 209, 210, 211, 212, 213, 214, 215, 216, 217, 218, 219, 220, 221, 222, 223, 224, 225, 226, 227, 228, 229, 230, 231, 232, 233, 234, 235, 236, 237, 238, 239, 240, 241, 242, 243, 244, 245, 246, 247, 248, 249, 250, 251, 252, 253, 254, 255, 256, 257, 258, 259, 260, 261, 262, 263, 264, 265, 266, 267, 268, 269, 270, 271, 272, 273, 274, 275, 276, 277, 278, 279, 280, 281, 282, 283, 284, 285, 286, 287, 288, 289, 290, 291, 292, 293, 294, 295, 296, 297, 298, 299, 300, 301, 302, 303, 304, 305, 306, 307, 308, 309, 310, 311, 312, 313, 314, 315, 316, 317, 318, 319, 320, 321, 322, 323, 324, 325, 326, 327, 328, 329, 330, 331, 332, 333, 334, 335, 336, 337, 338, 339, 340, 341, 342, 343, 344, 345, 346, 347, 348, 349, 350, 351, 352, 353, 354, 355, 356, 357, 358, 359, 360, 361, 362, 364, 365, 366, 367, 368, 369, 370, 371, 372, 373, 374, 375, 376, 377, 378, 379, 380, 381, 382, 383, 384, 385, 386, 387, 388, 389, 390, 391, 392, 393, 394, 395, 396, 397, 398, 399})"
      ]
     },
     "execution_count": 36,
     "metadata": {},
     "output_type": "execute_result"
    }
   ],
   "source": [
    "current_state"
   ]
  }
 ],
 "metadata": {
  "kernelspec": {
   "display_name": "ci-P-7LqQ3C-py3.11",
   "language": "python",
   "name": "python3"
  },
  "language_info": {
   "codemirror_mode": {
    "name": "ipython",
    "version": 3
   },
   "file_extension": ".py",
   "mimetype": "text/x-python",
   "name": "python",
   "nbconvert_exporter": "python",
   "pygments_lexer": "ipython3",
   "version": "3.10.11"
  }
 },
 "nbformat": 4,
 "nbformat_minor": 2
}
