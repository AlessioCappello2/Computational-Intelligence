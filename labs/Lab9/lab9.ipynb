{
 "cells": [
  {
   "cell_type": "markdown",
   "metadata": {},
   "source": [
    "Copyright **`(c)`** 2023 Giovanni Squillero `<giovanni.squillero@polito.it>`  \n",
    "[`https://github.com/squillero/computational-intelligence`](https://github.com/squillero/computational-intelligence)  \n",
    "Free for personal or classroom use; see [`LICENSE.md`](https://github.com/squillero/computational-intelligence/blob/master/LICENSE.md) for details.  "
   ]
  },
  {
   "cell_type": "markdown",
   "metadata": {},
   "source": [
    "# LAB9\n",
    "\n",
    "Write a local-search algorithm (eg. an EA) able to solve the *Problem* instances 1, 2, 5, and 10 on a 1000-loci genomes, using a minimum number of fitness calls. That's all.\n",
    "\n",
    "### Deadlines:\n",
    "\n",
    "* Submission: Sunday, December 3 ([CET](https://www.timeanddate.com/time/zones/cet))\n",
    "* Reviews: Sunday, December 10 ([CET](https://www.timeanddate.com/time/zones/cet))\n",
    "\n",
    "Notes:\n",
    "\n",
    "* Reviews will be assigned  on Monday, December 4\n",
    "* You need to commit in order to be selected as a reviewer (ie. better to commit an empty work than not to commit)"
   ]
  },
  {
   "cell_type": "code",
   "execution_count": 23,
   "metadata": {},
   "outputs": [],
   "source": [
    "from random import choice, randint, random\n",
    "from dataclasses import dataclass\n",
    "from copy import copy\n",
    "import sys\n",
    "from tqdm import tqdm\n",
    "\n",
    "import lab9_lib"
   ]
  },
  {
   "cell_type": "markdown",
   "metadata": {},
   "source": [
    "## Problem Initialization"
   ]
  },
  {
   "cell_type": "code",
   "execution_count": 30,
   "metadata": {},
   "outputs": [],
   "source": [
    "POPULATION_SIZE = 300\n",
    "OFFSPRING_SIZE = 700\n",
    "TOURNAMENT_SIZE = 2\n",
    "MUTATION_PROBABILITY = .2\n",
    "MUTATIONS = 1\n",
    "LOCI = 1000\n",
    "PROBLEM = 1\n",
    "GENERATIONS = 10000\n",
    "MIGRANTS = 10\n",
    "ISLANDS = 4\n",
    "MIGRATE = 100\n",
    "\n",
    "fitness = lab9_lib.make_problem(PROBLEM)"
   ]
  },
  {
   "cell_type": "code",
   "execution_count": 7,
   "metadata": {},
   "outputs": [],
   "source": [
    "@dataclass\n",
    "class Individual:\n",
    "    fitness: float\n",
    "    genotype: list[bool]\n",
    "\n",
    "def select_parent(pop):\n",
    "    pool = [choice(pop) for _ in range(TOURNAMENT_SIZE)]\n",
    "    champion = max(pool, key=lambda i: i.fitness)\n",
    "    return champion\n",
    "\n",
    "def mutate(ind: Individual) -> Individual:\n",
    "    offspring = copy(ind)\n",
    "    pos = [randint(0, LOCI-1) for _ in range(MUTATIONS)]\n",
    "    for i in range(len(pos)):\n",
    "        offspring.genotype[pos[i]] = not offspring.genotype[pos[i]]\n",
    "    offspring.fitness = None\n",
    "    return offspring\n",
    "\n",
    "def one_cut_xover(ind1: Individual, ind2: Individual) -> Individual:\n",
    "    cut_point = randint(0, LOCI-1)\n",
    "    offspring = Individual(fitness=None,\n",
    "                           genotype=ind1.genotype[:cut_point] + ind2.genotype[cut_point:])\n",
    "    assert len(offspring.genotype) == LOCI\n",
    "    return offspring\n",
    "\n",
    "def uniform_crossover(ind1: Individual, ind2: Individual) -> Individual:\n",
    "    offspring = Individual(fitness=None,\n",
    "                           genotype=[choice([ind1.genotype[i], ind2.genotype[i]])\n",
    "                                     for i in range(LOCI)])\n",
    "    assert len(offspring.genotype) == LOCI\n",
    "    return offspring"
   ]
  },
  {
   "cell_type": "code",
   "execution_count": 8,
   "metadata": {},
   "outputs": [],
   "source": [
    "class Island:\n",
    "    population: list[Individual]\n",
    "    id: int\n",
    "\n",
    "    def __init__(self, id):\n",
    "        self.population = [\n",
    "            Individual(\n",
    "                genotype=[choice((True, False)) for _ in range(LOCI)],\n",
    "                fitness=None,\n",
    "            )\n",
    "            for _ in range(POPULATION_SIZE)\n",
    "        ]\n",
    "        self.id = id\n",
    "\n",
    "        for i in self.population:\n",
    "            i.fitness = fitness(i.genotype)\n",
    "\n",
    "    def step(self, best_fitness) -> float:\n",
    "        for _ in range(MIGRATE):\n",
    "            offspring = list()\n",
    "            for _ in range(OFFSPRING_SIZE):\n",
    "                if random() < MUTATION_PROBABILITY:  # self-adapt mutation probability\n",
    "                    # mutation  # add more clever mutations\n",
    "                    p = select_parent(self.population)\n",
    "                    o = mutate(p)\n",
    "                else:\n",
    "                    # xover # add more xovers\n",
    "                    p1 = select_parent(self.population)\n",
    "                    p2 = select_parent(self.population)\n",
    "                    # o = one_cut_xover(p1, p2)\n",
    "                    o = uniform_crossover(p1, p2)\n",
    "                offspring.append(o)\n",
    "\n",
    "            for i in offspring:\n",
    "                i.fitness = fitness(i.genotype)\n",
    "            self.population.extend(offspring)\n",
    "            self.population.sort(key=lambda i: i.fitness, reverse=True)\n",
    "            self.population = self.population[:POPULATION_SIZE]\n",
    "    \n",
    "            if self.population[0].fitness > best_fitness:\n",
    "                best_fitness = self.population[0].fitness\n",
    "                print(\"Island \", self.id, \": \", best_fitness)\n",
    "        return best_fitness\n",
    "\n",
    "    def inject(self, migrants: list[Individual]):\n",
    "        self.population.extend(migrants)\n",
    "\n",
    "    def migrate(self) -> list[Individual]:\n",
    "        migrants = sorted(self.population, key=lambda x: x.fitness, reverse=True)[:MIGRANTS]\n",
    "        return migrants"
   ]
  },
  {
   "cell_type": "code",
   "execution_count": 63,
   "metadata": {},
   "outputs": [
    {
     "data": {
      "text/plain": [
       "'for n in range(10):\\n    ind = choices([0, 1], k=50)\\n    print(f\"{\\'\\'.join(str(g) for g in ind)}: {fitness(ind):.2%}\")\\n\\nprint(fitness.calls)\\n\\npopulation = [\\n    Individual(\\n        genotype=[choice((True, False)) for _ in range(LOCI)],\\n        fitness=None,\\n    )\\n    for _ in range(POPULATION_SIZE)\\n]\\n\\nfor i in population:\\n    i.fitness = fitness(i.genotype)'"
      ]
     },
     "execution_count": 63,
     "metadata": {},
     "output_type": "execute_result"
    }
   ],
   "source": [
    "# fitness = lab9_lib.make_problem(PROBLEM)\n",
    "'''for n in range(10):\n",
    "    ind = choices([0, 1], k=50)\n",
    "    print(f\"{''.join(str(g) for g in ind)}: {fitness(ind):.2%}\")\n",
    "\n",
    "print(fitness.calls)\n",
    "\n",
    "population = [\n",
    "    Individual(\n",
    "        genotype=[choice((True, False)) for _ in range(LOCI)],\n",
    "        fitness=None,\n",
    "    )\n",
    "    for _ in range(POPULATION_SIZE)\n",
    "]\n",
    "\n",
    "for i in population:\n",
    "    i.fitness = fitness(i.genotype)'''"
   ]
  },
  {
   "cell_type": "markdown",
   "metadata": {},
   "source": [
    "## GA execution"
   ]
  },
  {
   "cell_type": "code",
   "execution_count": 1,
   "metadata": {},
   "outputs": [
    {
     "data": {
      "text/plain": [
       "'best_fitness = 0\\nfor generation in tqdm(range(GENERATIONS), file=sys.stdout):\\n    offspring = list()\\n    for counter in range(OFFSPRING_SIZE):\\n        if random() < MUTATION_PROBABILITY:  # self-adapt mutation probability\\n            # mutation  # add more clever mutations\\n            p = select_parent(population)\\n            o = mutate(p)\\n        else:\\n            # xover # add more xovers\\n            p1 = select_parent(population)\\n            p2 = select_parent(population)\\n            o = one_cut_xover(p1, p2)\\n        offspring.append(o)\\n\\n    for i in offspring:\\n        i.fitness = fitness(i.genotype)\\n    population.extend(offspring)\\n    population.sort(key=lambda i: i.fitness, reverse=True)\\n    population = population[:POPULATION_SIZE]\\n    \\n    if population[0].fitness > best_fitness:\\n        best_fitness = population[0].fitness\\n        print(\" \", best_fitness)'"
      ]
     },
     "execution_count": 1,
     "metadata": {},
     "output_type": "execute_result"
    }
   ],
   "source": [
    "'''best_fitness = 0\n",
    "for generation in tqdm(range(GENERATIONS), file=sys.stdout):\n",
    "    offspring = list()\n",
    "    for counter in range(OFFSPRING_SIZE):\n",
    "        if random() < MUTATION_PROBABILITY:  # self-adapt mutation probability\n",
    "            # mutation  # add more clever mutations\n",
    "            p = select_parent(population)\n",
    "            o = mutate(p)\n",
    "        else:\n",
    "            # xover # add more xovers\n",
    "            p1 = select_parent(population)\n",
    "            p2 = select_parent(population)\n",
    "            o = one_cut_xover(p1, p2)\n",
    "        offspring.append(o)\n",
    "\n",
    "    for i in offspring:\n",
    "        i.fitness = fitness(i.genotype)\n",
    "    population.extend(offspring)\n",
    "    population.sort(key=lambda i: i.fitness, reverse=True)\n",
    "    population = population[:POPULATION_SIZE]\n",
    "    \n",
    "    if population[0].fitness > best_fitness:\n",
    "        best_fitness = population[0].fitness\n",
    "        print(\" \", best_fitness)'''\n",
    "    "
   ]
  },
  {
   "cell_type": "markdown",
   "metadata": {},
   "source": [
    "## The Island method"
   ]
  },
  {
   "cell_type": "code",
   "execution_count": 31,
   "metadata": {},
   "outputs": [
    {
     "name": "stdout",
     "output_type": "stream",
     "text": [
      "STEP:  0\n",
      "ISLAND:  0\n",
      "Island  0 :  0.556\n",
      "Island  0 :  0.568\n",
      "Island  0 :  0.58\n",
      "Island  0 :  0.593\n",
      "Island  0 :  0.622\n",
      "Island  0 :  0.634\n",
      "Island  0 :  0.659\n",
      "Island  0 :  0.666\n",
      "Island  0 :  0.677\n",
      "Island  0 :  0.686\n",
      "Island  0 :  0.702\n",
      "Island  0 :  0.715\n",
      "Island  0 :  0.735\n",
      "Island  0 :  0.739\n",
      "Island  0 :  0.748\n",
      "Island  0 :  0.765\n",
      "Island  0 :  0.777\n",
      "Island  0 :  0.79\n",
      "Island  0 :  0.792\n",
      "Island  0 :  0.814\n",
      "Island  0 :  0.818\n",
      "Island  0 :  0.828\n",
      "Island  0 :  0.838\n",
      "Island  0 :  0.842\n",
      "Island  0 :  0.855\n",
      "Island  0 :  0.864\n",
      "Island  0 :  0.875\n",
      "Island  0 :  0.883\n",
      "Island  0 :  0.891\n",
      "Island  0 :  0.895\n",
      "Island  0 :  0.906\n",
      "Island  0 :  0.91\n",
      "Island  0 :  0.925\n",
      "Island  0 :  0.927\n",
      "Island  0 :  0.936\n",
      "Island  0 :  0.943\n",
      "Island  0 :  0.945\n",
      "Island  0 :  0.953\n",
      "Island  0 :  0.956\n",
      "Island  0 :  0.964\n",
      "Island  0 :  0.966\n",
      "Island  0 :  0.973\n",
      "Island  0 :  0.978\n",
      "Island  0 :  0.98\n",
      "Island  0 :  0.983\n",
      "Island  0 :  0.986\n",
      "Island  0 :  0.988\n",
      "Island  0 :  0.991\n",
      "Island  0 :  0.993\n",
      "Island  0 :  0.996\n",
      "Island  0 :  0.999\n",
      "Island  0 :  1.0\n",
      "Finished!\n"
     ]
    }
   ],
   "source": [
    "islands = []\n",
    "for id in range(ISLANDS):\n",
    "    i = Island(id)\n",
    "    islands.append(i)\n",
    "\n",
    "finished = False\n",
    "best_fitness = 0\n",
    "g = 0\n",
    "while g < GENERATIONS // MIGRATE:\n",
    "    print(\"STEP: \", g)\n",
    "    for i in range(ISLANDS):\n",
    "        if finished: \n",
    "            break\n",
    "        print(\"ISLAND: \", i)\n",
    "        best_fitness = islands[i].step(best_fitness)\n",
    "        if best_fitness == 1.0: \n",
    "            finished = True\n",
    "    migrants = []\n",
    "    if finished:\n",
    "        break\n",
    "    for i in range(ISLANDS):\n",
    "        migrants.append(islands[i].migrate())\n",
    "    for j in range(ISLANDS):\n",
    "        for k in range(ISLANDS):\n",
    "            if j == k: continue\n",
    "            islands[j].inject(migrants[k])\n",
    "    g+=1\n",
    "print(\"Finished!\")\n"
   ]
  }
 ],
 "metadata": {
  "kernelspec": {
   "display_name": "ci-fLJ3OwGs-py3.12",
   "language": "python",
   "name": "python3"
  },
  "language_info": {
   "codemirror_mode": {
    "name": "ipython",
    "version": 3
   },
   "file_extension": ".py",
   "mimetype": "text/x-python",
   "name": "python",
   "nbconvert_exporter": "python",
   "pygments_lexer": "ipython3",
   "version": "3.10.11"
  }
 },
 "nbformat": 4,
 "nbformat_minor": 2
}
