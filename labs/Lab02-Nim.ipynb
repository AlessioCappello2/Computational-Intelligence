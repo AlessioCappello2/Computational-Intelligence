{
 "cells": [
  {
   "cell_type": "markdown",
   "metadata": {
    "pycharm": {
     "name": "#%% md\n"
    }
   },
   "source": [
    "Copyright **`(c)`** 2022 Giovanni Squillero `<squillero@polito.it>`  \n",
    "[`https://github.com/squillero/computational-intelligence`](https://github.com/squillero/computational-intelligence)  \n",
    "Free for personal or classroom use; see [`LICENSE.md`](https://github.com/squillero/computational-intelligence/blob/master/LICENSE.md) for details.  \n"
   ]
  },
  {
   "cell_type": "markdown",
   "metadata": {
    "pycharm": {
     "name": "#%%\n"
    }
   },
   "source": [
    "# Lab 3: ES\n",
    "\n",
    "## Task\n",
    "\n",
    "Write agents able to play [*Nim*](https://en.wikipedia.org/wiki/Nim), with an arbitrary number of rows and an upper bound $k$ on the number of objects that can be removed in a turn (a.k.a., *subtraction game*).\n",
    "\n",
    "The goal of the game is to **avoid** taking the last object.\n",
    "\n",
    "* Task2.1: An agent using fixed rules based on *nim-sum* (i.e., an *expert system*)\n",
    "* Task2.2: An agent using evolved rules using ES\n",
    "\n",
    "## Instructions\n",
    "\n",
    "* Create the directory `lab2` inside your personal course repository for the course \n",
    "* Put a `README.md` and your solution (all the files, code and auxiliary data if needed)\n",
    "\n",
    "## Notes\n",
    "\n",
    "* Working in group is not only allowed, but recommended (see: [Ubuntu](https://en.wikipedia.org/wiki/Ubuntu_philosophy) and [Cooperative Learning](https://files.eric.ed.gov/fulltext/EJ1096789.pdf)). Collaborations must be explicitly declared in the `README.md`.\n",
    "* [Yanking](https://www.emacswiki.org/emacs/KillingAndYanking) from the internet is allowed, but sources must be explicitly declared in the `README.md`.\n",
    "\n"
   ]
  },
  {
   "cell_type": "code",
   "execution_count": 171,
   "metadata": {},
   "outputs": [],
   "source": [
    "import logging\n",
    "from pprint import pprint, pformat\n",
    "from collections import namedtuple\n",
    "import random\n",
    "from copy import deepcopy\n",
    "import math\n",
    "import numpy as np\n"
   ]
  },
  {
   "cell_type": "markdown",
   "metadata": {},
   "source": [
    "## The *Nim* and *Nimply* classes"
   ]
  },
  {
   "cell_type": "code",
   "execution_count": 172,
   "metadata": {},
   "outputs": [],
   "source": [
    "Nimply = namedtuple(\"Nimply\", \"row, num_objects\")\n"
   ]
  },
  {
   "cell_type": "code",
   "execution_count": 173,
   "metadata": {},
   "outputs": [],
   "source": [
    "class Nim:\n",
    "    def __init__(self, num_rows: int, k: int = None) -> None:\n",
    "        self._rows = [i * 2 + 1 for i in range(num_rows)]\n",
    "        self._k = k\n",
    "\n",
    "    def __bool__(self):\n",
    "        return sum(self._rows) > 0\n",
    "\n",
    "    def __str__(self):\n",
    "        return \"<\" + \" \".join(str(_) for _ in self._rows) + \">\"\n",
    "\n",
    "    @property\n",
    "    def rows(self) -> tuple:\n",
    "        return tuple(self._rows)\n",
    "\n",
    "    def nimming(self, ply: Nimply) -> None:\n",
    "        row, num_objects = ply\n",
    "        assert self._rows[row] >= num_objects\n",
    "        assert self._k is None or num_objects <= self._k\n",
    "        self._rows[row] -= num_objects\n"
   ]
  },
  {
   "cell_type": "markdown",
   "metadata": {},
   "source": [
    "## Sample (and silly) startegies "
   ]
  },
  {
   "cell_type": "code",
   "execution_count": 174,
   "metadata": {},
   "outputs": [],
   "source": [
    "def pure_random(state: Nim, genome=None) -> Nimply:\n",
    "    \"\"\"A completely random move\"\"\"\n",
    "    row = random.choice([r for r, c in enumerate(state.rows) if c > 0])\n",
    "    num_objects = random.randint(1, state.rows[row])\n",
    "    return Nimply(row, num_objects)\n"
   ]
  },
  {
   "cell_type": "code",
   "execution_count": 175,
   "metadata": {},
   "outputs": [],
   "source": [
    "def gabriele(state: Nim, genome=None) -> Nimply:\n",
    "    \"\"\"Pick always the maximum possible number of the lowest row\"\"\"\n",
    "    possible_moves = [(r, o) for r, c in enumerate(state.rows) for o in range(1, c + 1)]\n",
    "    return Nimply(*max(possible_moves, key=lambda m: (-m[0], m[1])))\n"
   ]
  },
  {
   "cell_type": "code",
   "execution_count": 176,
   "metadata": {},
   "outputs": [],
   "source": [
    "def adaptive(state: Nim, genome) -> Nimply:\n",
    "    \"\"\"A strategy that can adapt its parameters\"\"\"\n",
    "\n",
    "    rows = state.rows\n",
    "    non_zero = np.array(rows).astype(bool).sum()\n",
    "    row_t = math.floor(non_zero*genome[\"row\"])\n",
    "    row_a = -1\n",
    "    for i in range(len(rows)):\n",
    "        if rows[i] > 0:\n",
    "            row_a += 1\n",
    "        if row_a == row_t:\n",
    "            row_a = i\n",
    "            break\n",
    "    return Nimply(row_a, max(math.floor(rows[row_a]*genome[\"elements\"]), 1))"
   ]
  },
  {
   "cell_type": "code",
   "execution_count": 177,
   "metadata": {},
   "outputs": [],
   "source": [
    "\n",
    "def nim_sum(state: Nim) -> int:\n",
    "    tmp = np.array([tuple(int(x) for x in f\"{c:032b}\") for c in state.rows])\n",
    "    xor = tmp.sum(axis=0) % 2\n",
    "    return int(\"\".join(str(_) for _ in xor), base=2)\n",
    "\n",
    "\n",
    "def analize(raw: Nim) -> dict:\n",
    "    cooked = dict()\n",
    "    cooked[\"possible_moves\"] = dict()\n",
    "    for ply in (Nimply(r, o) for r, c in enumerate(raw.rows) for o in range(1, c + 1)):\n",
    "        tmp = deepcopy(raw)\n",
    "        tmp.nimming(ply)\n",
    "        cooked[\"possible_moves\"][ply] = nim_sum(tmp)\n",
    "    return cooked\n",
    "\n",
    "\n",
    "def optimal(state: Nim, genome=None) -> Nimply:\n",
    "    analysis = analize(state)\n",
    "    logging.debug(f\"analysis:\\n{pformat(analysis)}\")\n",
    "    spicy_moves = [ply for ply, ns in analysis[\"possible_moves\"].items() if ns != 0]\n",
    "    if not spicy_moves:\n",
    "        spicy_moves = list(analysis[\"possible_moves\"].keys())\n",
    "    ply = random.choice(spicy_moves)\n",
    "    return ply\n"
   ]
  },
  {
   "cell_type": "markdown",
   "metadata": {},
   "source": [
    "## Oversimplified match"
   ]
  },
  {
   "cell_type": "code",
   "execution_count": 178,
   "metadata": {},
   "outputs": [
    {
     "data": {
      "text/plain": [
       "'logging.getLogger().setLevel(logging.INFO)\\n\\nstrategy = (optimal, adaptive)\\n\\nnim = Nim(5)\\nlogging.info(f\"init : {nim}\")\\nplayer = 0\\nwhile nim:\\n    ply = strategy[player](nim)\\n    logging.info(f\"ply: player {player} plays {ply}\")\\n    nim.nimming(ply)\\n    logging.info(f\"status: {nim}\")\\n    player = 1 - player\\nlogging.info(f\"status: Player {player} won!\")'"
      ]
     },
     "execution_count": 178,
     "metadata": {},
     "output_type": "execute_result"
    }
   ],
   "source": [
    "'''logging.getLogger().setLevel(logging.INFO)\n",
    "\n",
    "strategy = (optimal, adaptive)\n",
    "\n",
    "nim = Nim(5)\n",
    "logging.info(f\"init : {nim}\")\n",
    "player = 0\n",
    "while nim:\n",
    "    ply = strategy[player](nim)\n",
    "    logging.info(f\"ply: player {player} plays {ply}\")\n",
    "    nim.nimming(ply)\n",
    "    logging.info(f\"status: {nim}\")\n",
    "    player = 1 - player\n",
    "logging.info(f\"status: Player {player} won!\")'''\n"
   ]
  },
  {
   "cell_type": "markdown",
   "metadata": {},
   "source": [
    "## Trial"
   ]
  },
  {
   "cell_type": "code",
   "execution_count": 190,
   "metadata": {},
   "outputs": [],
   "source": [
    "def fitness(current_genome, strategy, games=1000):\n",
    "    wins = 0\n",
    "    for _ in range(games):\n",
    "        nim = Nim(5)\n",
    "        player = 0\n",
    "        while nim:\n",
    "            ply = strategy[player](nim, current_genome)\n",
    "            nim.nimming(ply)\n",
    "            player = 1 - player\n",
    "        if player == 1:\n",
    "            wins += 1\n",
    "    return float(wins)/games\n",
    "\n",
    "\n",
    "def tweak(genome, mu=0, sigma=0.1):\n",
    "    dist = np.random.normal(mu, sigma, 2)\n",
    "\n",
    "    candidate = {k: v for k, v in genome.items()}\n",
    "    candidate[\"row\"] += dist[0]\n",
    "    candidate[\"elements\"] += dist[1]\n",
    "\n",
    "    if candidate[\"row\"] >= 1:\n",
    "        candidate[\"row\"] = 0.999\n",
    "    elif candidate[\"row\"] < 0:\n",
    "        candidate[\"row\"] = 0\n",
    "\n",
    "    if candidate[\"elements\"] >= 1:\n",
    "        candidate[\"elements\"] = 0.999\n",
    "    elif candidate[\"elements\"] < 0:\n",
    "        candidate[\"elements\"] = 0\n",
    "    \n",
    "    return candidate\n",
    "\n",
    "\n",
    "def train(strategy, generations=100, population_size=100, mu=0, sigma=0.1, sigma2=0.01, plus=True, self_adaptive=False):\n",
    "    row = np.random.rand()\n",
    "    elements = np.random.rand()\n",
    "    if self_adaptive:\n",
    "        sigma = np.random.rand()\n",
    "    parent_genome = ({\"row\": row, \"elements\": elements}, fitness({\"row\": row, \"elements\": elements}, strategy))\n",
    "\n",
    "    for _ in range(generations):\n",
    "        best_genome = ({\"row\": 0, \"elements\": 0}, 0)\n",
    "        new_sigma = 0\n",
    "        for i in range(population_size):\n",
    "            child_sigma = np.random.normal(sigma, sigma2, 1)\n",
    "            child_genome = tweak(parent_genome[0], mu, sigma if not self_adaptive else child_sigma)\n",
    "            fit = fitness(child_genome, strategy)\n",
    "            if fit > best_genome[1] or i == 0:\n",
    "                best_genome = (child_genome, fit)\n",
    "                new_sigma = child_sigma\n",
    "\n",
    "        if plus:\n",
    "            if best_genome[1] > parent_genome[1]:\n",
    "                parent_genome = best_genome\n",
    "                if self_adaptive:\n",
    "                    sigma = new_sigma\n",
    "        else:\n",
    "            parent_genome = best_genome\n",
    "            if self_adaptive:\n",
    "                sigma = new_sigma\n",
    "        \n",
    "        print(parent_genome)"
   ]
  },
  {
   "cell_type": "code",
   "execution_count": 193,
   "metadata": {},
   "outputs": [
    {
     "name": "stdout",
     "output_type": "stream",
     "text": [
      "({'row': 0.480251996416799, 'elements': 0.43333527460696064}, 0.633)\n",
      "({'row': 0.4473880952814858, 'elements': 0.4979504663470467}, 0.635)\n",
      "({'row': 0.36781634639477273, 'elements': 0.669697082317617}, 0.65)\n",
      "({'row': 0.4067528852485436, 'elements': 0.9329120559164225}, 0.791)\n",
      "({'row': 0.3716545502703079, 'elements': 0.999}, 0.795)\n",
      "({'row': 0.3716545502703079, 'elements': 0.999}, 0.795)\n",
      "({'row': 0.37947649462632477, 'elements': 0.999}, 0.796)\n",
      "({'row': 0.4425248054928218, 'elements': 0.999}, 0.804)\n",
      "({'row': 0.4425248054928218, 'elements': 0.999}, 0.804)\n",
      "({'row': 0.4425248054928218, 'elements': 0.999}, 0.804)\n",
      "({'row': 0.4209677500025346, 'elements': 0.999}, 0.805)\n",
      "({'row': 0.4209677500025346, 'elements': 0.999}, 0.805)\n",
      "({'row': 0.4209677500025346, 'elements': 0.999}, 0.805)\n",
      "({'row': 0.4209677500025346, 'elements': 0.999}, 0.805)\n",
      "({'row': 0.4209677500025346, 'elements': 0.999}, 0.805)\n",
      "({'row': 0.4209677500025346, 'elements': 0.999}, 0.805)\n",
      "({'row': 0.3486922925832481, 'elements': 0.999}, 0.806)\n",
      "({'row': 0.3486922925832481, 'elements': 0.999}, 0.806)\n",
      "({'row': 0.3486922925832481, 'elements': 0.999}, 0.806)\n",
      "({'row': 0.3486922925832481, 'elements': 0.999}, 0.806)\n",
      "({'row': 0.3486922925832481, 'elements': 0.999}, 0.806)\n",
      "({'row': 0.21633717915787562, 'elements': 0.999}, 0.809)\n",
      "({'row': 0.21633717915787562, 'elements': 0.999}, 0.809)\n",
      "({'row': 0.21633717915787562, 'elements': 0.999}, 0.809)\n",
      "({'row': 0.38792427876187463, 'elements': 0.893764254354121}, 0.81)\n",
      "({'row': 0.38792427876187463, 'elements': 0.893764254354121}, 0.81)\n",
      "({'row': 0.38792427876187463, 'elements': 0.893764254354121}, 0.81)\n",
      "({'row': 0.38792427876187463, 'elements': 0.893764254354121}, 0.81)\n",
      "({'row': 0.38792427876187463, 'elements': 0.893764254354121}, 0.81)\n",
      "({'row': 0.38792427876187463, 'elements': 0.893764254354121}, 0.81)\n",
      "({'row': 0.38792427876187463, 'elements': 0.893764254354121}, 0.81)\n",
      "({'row': 0.38792427876187463, 'elements': 0.893764254354121}, 0.81)\n",
      "({'row': 0.38792427876187463, 'elements': 0.893764254354121}, 0.81)\n",
      "({'row': 0.38792427876187463, 'elements': 0.893764254354121}, 0.81)\n",
      "({'row': 0.38792427876187463, 'elements': 0.893764254354121}, 0.81)\n",
      "({'row': 0.38792427876187463, 'elements': 0.893764254354121}, 0.81)\n",
      "({'row': 0.38792427876187463, 'elements': 0.893764254354121}, 0.81)\n",
      "({'row': 0.38792427876187463, 'elements': 0.893764254354121}, 0.81)\n",
      "({'row': 0.38792427876187463, 'elements': 0.893764254354121}, 0.81)\n",
      "({'row': 0.38792427876187463, 'elements': 0.893764254354121}, 0.81)\n",
      "({'row': 0.38792427876187463, 'elements': 0.893764254354121}, 0.81)\n",
      "({'row': 0.38792427876187463, 'elements': 0.893764254354121}, 0.81)\n",
      "({'row': 0.38792427876187463, 'elements': 0.893764254354121}, 0.81)\n",
      "({'row': 0.38792427876187463, 'elements': 0.893764254354121}, 0.81)\n",
      "({'row': 0.38792427876187463, 'elements': 0.893764254354121}, 0.81)\n",
      "({'row': 0.38792427876187463, 'elements': 0.893764254354121}, 0.81)\n",
      "({'row': 0.38792427876187463, 'elements': 0.893764254354121}, 0.81)\n",
      "({'row': 0.38792427876187463, 'elements': 0.893764254354121}, 0.81)\n",
      "({'row': 0.38792427876187463, 'elements': 0.893764254354121}, 0.81)\n",
      "({'row': 0.38792427876187463, 'elements': 0.893764254354121}, 0.81)\n",
      "({'row': 0.38792427876187463, 'elements': 0.893764254354121}, 0.81)\n",
      "({'row': 0.38792427876187463, 'elements': 0.893764254354121}, 0.81)\n",
      "({'row': 0.38792427876187463, 'elements': 0.893764254354121}, 0.81)\n",
      "({'row': 0.38792427876187463, 'elements': 0.893764254354121}, 0.81)\n",
      "({'row': 0.38792427876187463, 'elements': 0.893764254354121}, 0.81)\n",
      "({'row': 0.38792427876187463, 'elements': 0.893764254354121}, 0.81)\n",
      "({'row': 0.38792427876187463, 'elements': 0.893764254354121}, 0.81)\n",
      "({'row': 0.38792427876187463, 'elements': 0.893764254354121}, 0.81)\n",
      "({'row': 0.38792427876187463, 'elements': 0.893764254354121}, 0.81)\n",
      "({'row': 0.38792427876187463, 'elements': 0.893764254354121}, 0.81)\n",
      "({'row': 0.38792427876187463, 'elements': 0.893764254354121}, 0.81)\n",
      "({'row': 0.38792427876187463, 'elements': 0.893764254354121}, 0.81)\n",
      "({'row': 0.38792427876187463, 'elements': 0.893764254354121}, 0.81)\n",
      "({'row': 0.38792427876187463, 'elements': 0.893764254354121}, 0.81)\n",
      "({'row': 0.38792427876187463, 'elements': 0.893764254354121}, 0.81)\n",
      "({'row': 0.38792427876187463, 'elements': 0.893764254354121}, 0.81)\n",
      "({'row': 0.38792427876187463, 'elements': 0.893764254354121}, 0.81)\n",
      "({'row': 0.38792427876187463, 'elements': 0.893764254354121}, 0.81)\n",
      "({'row': 0.38792427876187463, 'elements': 0.893764254354121}, 0.81)\n",
      "({'row': 0.38792427876187463, 'elements': 0.893764254354121}, 0.81)\n",
      "({'row': 0.3657132203221853, 'elements': 0.999}, 0.818)\n",
      "({'row': 0.3657132203221853, 'elements': 0.999}, 0.818)\n",
      "({'row': 0.3657132203221853, 'elements': 0.999}, 0.818)\n",
      "({'row': 0.3657132203221853, 'elements': 0.999}, 0.818)\n",
      "({'row': 0.3657132203221853, 'elements': 0.999}, 0.818)\n",
      "({'row': 0.3657132203221853, 'elements': 0.999}, 0.818)\n",
      "({'row': 0.3657132203221853, 'elements': 0.999}, 0.818)\n",
      "({'row': 0.3657132203221853, 'elements': 0.999}, 0.818)\n",
      "({'row': 0.3657132203221853, 'elements': 0.999}, 0.818)\n",
      "({'row': 0.3657132203221853, 'elements': 0.999}, 0.818)\n",
      "({'row': 0.3657132203221853, 'elements': 0.999}, 0.818)\n",
      "({'row': 0.3657132203221853, 'elements': 0.999}, 0.818)\n",
      "({'row': 0.3657132203221853, 'elements': 0.999}, 0.818)\n",
      "({'row': 0.3657132203221853, 'elements': 0.999}, 0.818)\n",
      "({'row': 0.3657132203221853, 'elements': 0.999}, 0.818)\n",
      "({'row': 0.3657132203221853, 'elements': 0.999}, 0.818)\n",
      "({'row': 0.3657132203221853, 'elements': 0.999}, 0.818)\n",
      "({'row': 0.3657132203221853, 'elements': 0.999}, 0.818)\n",
      "({'row': 0.3657132203221853, 'elements': 0.999}, 0.818)\n",
      "({'row': 0.3657132203221853, 'elements': 0.999}, 0.818)\n",
      "({'row': 0.3657132203221853, 'elements': 0.999}, 0.818)\n",
      "({'row': 0.3657132203221853, 'elements': 0.999}, 0.818)\n",
      "({'row': 0.3657132203221853, 'elements': 0.999}, 0.818)\n",
      "({'row': 0.3657132203221853, 'elements': 0.999}, 0.818)\n",
      "({'row': 0.3657132203221853, 'elements': 0.999}, 0.818)\n",
      "({'row': 0.3657132203221853, 'elements': 0.999}, 0.818)\n",
      "({'row': 0.3657132203221853, 'elements': 0.999}, 0.818)\n",
      "({'row': 0.3657132203221853, 'elements': 0.999}, 0.818)\n",
      "({'row': 0.3657132203221853, 'elements': 0.999}, 0.818)\n",
      "({'row': 0.3657132203221853, 'elements': 0.999}, 0.818)\n"
     ]
    }
   ],
   "source": [
    "strategy = (pure_random, adaptive)\n",
    "\n",
    "train(strategy, generations=100, population_size=100, mu=0, sigma=0.1, plus=True)"
   ]
  },
  {
   "cell_type": "markdown",
   "metadata": {},
   "source": [
    "## Self-adaptive"
   ]
  },
  {
   "cell_type": "code",
   "execution_count": 192,
   "metadata": {},
   "outputs": [
    {
     "name": "stdout",
     "output_type": "stream",
     "text": [
      "({'row': 0.1125061926529804, 'elements': 0.9553842722246824}, 0.786)\n",
      "({'row': 0.2559480185136406, 'elements': 0.9443181584168007}, 0.792)\n",
      "({'row': 0.3068371997513636, 'elements': 0.999}, 0.796)\n",
      "({'row': 0.3068371997513636, 'elements': 0.999}, 0.796)\n",
      "({'row': 0.3068371997513636, 'elements': 0.999}, 0.796)\n",
      "({'row': 0.34802294047925353, 'elements': 0.999}, 0.802)\n",
      "({'row': 0.34802294047925353, 'elements': 0.999}, 0.802)\n",
      "({'row': 0.34802294047925353, 'elements': 0.999}, 0.802)\n",
      "({'row': 0.34802294047925353, 'elements': 0.999}, 0.802)\n",
      "({'row': 0.34802294047925353, 'elements': 0.999}, 0.802)\n",
      "({'row': 0.34802294047925353, 'elements': 0.999}, 0.802)\n",
      "({'row': 0.34802294047925353, 'elements': 0.999}, 0.802)\n",
      "({'row': 0.36596260663442254, 'elements': 0.999}, 0.81)\n",
      "({'row': 0.36596260663442254, 'elements': 0.999}, 0.81)\n",
      "({'row': 0.36596260663442254, 'elements': 0.999}, 0.81)\n",
      "({'row': 0.36596260663442254, 'elements': 0.999}, 0.81)\n",
      "({'row': 0.36596260663442254, 'elements': 0.999}, 0.81)\n",
      "({'row': 0.36596260663442254, 'elements': 0.999}, 0.81)\n",
      "({'row': 0.36596260663442254, 'elements': 0.999}, 0.81)\n",
      "({'row': 0.36596260663442254, 'elements': 0.999}, 0.81)\n",
      "({'row': 0.36596260663442254, 'elements': 0.999}, 0.81)\n",
      "({'row': 0.36596260663442254, 'elements': 0.999}, 0.81)\n",
      "({'row': 0.36596260663442254, 'elements': 0.999}, 0.81)\n",
      "({'row': 0.36596260663442254, 'elements': 0.999}, 0.81)\n",
      "({'row': 0.36596260663442254, 'elements': 0.999}, 0.81)\n",
      "({'row': 0.36596260663442254, 'elements': 0.999}, 0.81)\n",
      "({'row': 0.36596260663442254, 'elements': 0.999}, 0.81)\n",
      "({'row': 0.36596260663442254, 'elements': 0.999}, 0.81)\n",
      "({'row': 0.36596260663442254, 'elements': 0.999}, 0.81)\n",
      "({'row': 0.36596260663442254, 'elements': 0.999}, 0.81)\n",
      "({'row': 0.36596260663442254, 'elements': 0.999}, 0.81)\n",
      "({'row': 0.36596260663442254, 'elements': 0.999}, 0.81)\n",
      "({'row': 0.36596260663442254, 'elements': 0.999}, 0.81)\n",
      "({'row': 0.36596260663442254, 'elements': 0.999}, 0.81)\n",
      "({'row': 0.36596260663442254, 'elements': 0.999}, 0.81)\n",
      "({'row': 0.36596260663442254, 'elements': 0.999}, 0.81)\n",
      "({'row': 0.36596260663442254, 'elements': 0.999}, 0.81)\n",
      "({'row': 0.36596260663442254, 'elements': 0.999}, 0.81)\n",
      "({'row': 0.36596260663442254, 'elements': 0.999}, 0.81)\n",
      "({'row': 0.36596260663442254, 'elements': 0.999}, 0.81)\n",
      "({'row': 0.36596260663442254, 'elements': 0.999}, 0.81)\n",
      "({'row': 0.36596260663442254, 'elements': 0.999}, 0.81)\n",
      "({'row': 0.36596260663442254, 'elements': 0.999}, 0.81)\n",
      "({'row': 0.36596260663442254, 'elements': 0.999}, 0.81)\n",
      "({'row': 0.36596260663442254, 'elements': 0.999}, 0.81)\n",
      "({'row': 0.36596260663442254, 'elements': 0.999}, 0.81)\n",
      "({'row': 0.36596260663442254, 'elements': 0.999}, 0.81)\n",
      "({'row': 0.36596260663442254, 'elements': 0.999}, 0.81)\n",
      "({'row': 0.36596260663442254, 'elements': 0.999}, 0.81)\n",
      "({'row': 0.36596260663442254, 'elements': 0.999}, 0.81)\n",
      "({'row': 0.36596260663442254, 'elements': 0.999}, 0.81)\n",
      "({'row': 0.36596260663442254, 'elements': 0.999}, 0.81)\n",
      "({'row': 0.36596260663442254, 'elements': 0.999}, 0.81)\n",
      "({'row': 0.3495932575518179, 'elements': 0.9376007837181962}, 0.819)\n",
      "({'row': 0.3495932575518179, 'elements': 0.9376007837181962}, 0.819)\n",
      "({'row': 0.3495932575518179, 'elements': 0.9376007837181962}, 0.819)\n",
      "({'row': 0.3495932575518179, 'elements': 0.9376007837181962}, 0.819)\n",
      "({'row': 0.3495932575518179, 'elements': 0.9376007837181962}, 0.819)\n",
      "({'row': 0.3495932575518179, 'elements': 0.9376007837181962}, 0.819)\n",
      "({'row': 0.3495932575518179, 'elements': 0.9376007837181962}, 0.819)\n",
      "({'row': 0.3495932575518179, 'elements': 0.9376007837181962}, 0.819)\n",
      "({'row': 0.3495932575518179, 'elements': 0.9376007837181962}, 0.819)\n",
      "({'row': 0.3495932575518179, 'elements': 0.9376007837181962}, 0.819)\n",
      "({'row': 0.3495932575518179, 'elements': 0.9376007837181962}, 0.819)\n",
      "({'row': 0.3495932575518179, 'elements': 0.9376007837181962}, 0.819)\n",
      "({'row': 0.3495932575518179, 'elements': 0.9376007837181962}, 0.819)\n",
      "({'row': 0.3495932575518179, 'elements': 0.9376007837181962}, 0.819)\n",
      "({'row': 0.3495932575518179, 'elements': 0.9376007837181962}, 0.819)\n",
      "({'row': 0.3495932575518179, 'elements': 0.9376007837181962}, 0.819)\n",
      "({'row': 0.3495932575518179, 'elements': 0.9376007837181962}, 0.819)\n",
      "({'row': 0.3495932575518179, 'elements': 0.9376007837181962}, 0.819)\n",
      "({'row': 0.3495932575518179, 'elements': 0.9376007837181962}, 0.819)\n",
      "({'row': 0.3495932575518179, 'elements': 0.9376007837181962}, 0.819)\n",
      "({'row': 0.3495932575518179, 'elements': 0.9376007837181962}, 0.819)\n",
      "({'row': 0.3495932575518179, 'elements': 0.9376007837181962}, 0.819)\n",
      "({'row': 0.3495932575518179, 'elements': 0.9376007837181962}, 0.819)\n",
      "({'row': 0.3495932575518179, 'elements': 0.9376007837181962}, 0.819)\n",
      "({'row': 0.3495932575518179, 'elements': 0.9376007837181962}, 0.819)\n",
      "({'row': 0.3495932575518179, 'elements': 0.9376007837181962}, 0.819)\n",
      "({'row': 0.3495932575518179, 'elements': 0.9376007837181962}, 0.819)\n",
      "({'row': 0.3495932575518179, 'elements': 0.9376007837181962}, 0.819)\n",
      "({'row': 0.3495932575518179, 'elements': 0.9376007837181962}, 0.819)\n",
      "({'row': 0.3495932575518179, 'elements': 0.9376007837181962}, 0.819)\n",
      "({'row': 0.3495932575518179, 'elements': 0.9376007837181962}, 0.819)\n",
      "({'row': 0.3495932575518179, 'elements': 0.9376007837181962}, 0.819)\n",
      "({'row': 0.3495932575518179, 'elements': 0.9376007837181962}, 0.819)\n",
      "({'row': 0.3495932575518179, 'elements': 0.9376007837181962}, 0.819)\n",
      "({'row': 0.3495932575518179, 'elements': 0.9376007837181962}, 0.819)\n",
      "({'row': 0.3495932575518179, 'elements': 0.9376007837181962}, 0.819)\n",
      "({'row': 0.3495932575518179, 'elements': 0.9376007837181962}, 0.819)\n",
      "({'row': 0.3495932575518179, 'elements': 0.9376007837181962}, 0.819)\n",
      "({'row': 0.3495932575518179, 'elements': 0.9376007837181962}, 0.819)\n",
      "({'row': 0.3495932575518179, 'elements': 0.9376007837181962}, 0.819)\n",
      "({'row': 0.3495932575518179, 'elements': 0.9376007837181962}, 0.819)\n",
      "({'row': 0.3495932575518179, 'elements': 0.9376007837181962}, 0.819)\n",
      "({'row': 0.3495932575518179, 'elements': 0.9376007837181962}, 0.819)\n",
      "({'row': 0.3495932575518179, 'elements': 0.9376007837181962}, 0.819)\n",
      "({'row': 0.3495932575518179, 'elements': 0.9376007837181962}, 0.819)\n",
      "({'row': 0.3495932575518179, 'elements': 0.9376007837181962}, 0.819)\n",
      "({'row': 0.3495932575518179, 'elements': 0.9376007837181962}, 0.819)\n"
     ]
    }
   ],
   "source": [
    "# shared sigma\n",
    "\n",
    "train(strategy, generations=100, population_size=100, mu=0, sigma=0.1, sigma2=0.01, plus=True, self_adaptive=True)"
   ]
  }
 ],
 "metadata": {
  "kernelspec": {
   "display_name": "Python 3.10.7 ('ci22-dPIXJ0_o-py3.10')",
   "language": "python",
   "name": "python3"
  },
  "language_info": {
   "codemirror_mode": {
    "name": "ipython",
    "version": 3
   },
   "file_extension": ".py",
   "mimetype": "text/x-python",
   "name": "python",
   "nbconvert_exporter": "python",
   "pygments_lexer": "ipython3",
   "version": "3.10.11"
  },
  "vscode": {
   "interpreter": {
    "hash": "10197e8e2f2aa67e2c349105091c77f4cd384fce4877865f002d9ec653f96bc0"
   }
  }
 },
 "nbformat": 4,
 "nbformat_minor": 2
}
