{
 "cells": [
  {
   "cell_type": "markdown",
   "metadata": {
    "pycharm": {
     "name": "#%% md\n"
    }
   },
   "source": [
    "Copyright **`(c)`** 2022 Giovanni Squillero `<squillero@polito.it>`  \n",
    "[`https://github.com/squillero/computational-intelligence`](https://github.com/squillero/computational-intelligence)  \n",
    "Free for personal or classroom use; see [`LICENSE.md`](https://github.com/squillero/computational-intelligence/blob/master/LICENSE.md) for details.  \n"
   ]
  },
  {
   "cell_type": "markdown",
   "metadata": {
    "pycharm": {
     "name": "#%%\n"
    }
   },
   "source": [
    "# Lab 3: ES\n",
    "\n",
    "## Task\n",
    "\n",
    "Write agents able to play [*Nim*](https://en.wikipedia.org/wiki/Nim), with an arbitrary number of rows and an upper bound $k$ on the number of objects that can be removed in a turn (a.k.a., *subtraction game*).\n",
    "\n",
    "The goal of the game is to **avoid** taking the last object.\n",
    "\n",
    "* Task2.1: An agent using fixed rules based on *nim-sum* (i.e., an *expert system*)\n",
    "* Task2.2: An agent using evolved rules using ES\n",
    "\n",
    "## Instructions\n",
    "\n",
    "* Create the directory `lab2` inside your personal course repository for the course \n",
    "* Put a `README.md` and your solution (all the files, code and auxiliary data if needed)\n",
    "\n",
    "## Notes\n",
    "\n",
    "* Working in group is not only allowed, but recommended (see: [Ubuntu](https://en.wikipedia.org/wiki/Ubuntu_philosophy) and [Cooperative Learning](https://files.eric.ed.gov/fulltext/EJ1096789.pdf)). Collaborations must be explicitly declared in the `README.md`.\n",
    "* [Yanking](https://www.emacswiki.org/emacs/KillingAndYanking) from the internet is allowed, but sources must be explicitly declared in the `README.md`.\n",
    "\n"
   ]
  },
  {
   "cell_type": "code",
   "execution_count": 18,
   "metadata": {},
   "outputs": [],
   "source": [
    "import logging\n",
    "import sys\n",
    "from pprint import pprint, pformat\n",
    "from collections import namedtuple\n",
    "import random\n",
    "from copy import deepcopy\n",
    "import math\n",
    "import numpy as np\n",
    "from tqdm import tqdm"
   ]
  },
  {
   "cell_type": "markdown",
   "metadata": {},
   "source": [
    "## The *Nim* and *Nimply* classes"
   ]
  },
  {
   "cell_type": "code",
   "execution_count": 3,
   "metadata": {},
   "outputs": [],
   "source": [
    "Nimply = namedtuple(\"Nimply\", \"row, num_objects\")"
   ]
  },
  {
   "cell_type": "code",
   "execution_count": 4,
   "metadata": {},
   "outputs": [],
   "source": [
    "class Nim:\n",
    "    def __init__(self, num_rows: int, k: int = None) -> None:\n",
    "        self._rows = [i * 2 + 1 for i in range(num_rows)]\n",
    "        self._k = k\n",
    "\n",
    "    def __bool__(self):\n",
    "        return sum(self._rows) > 0\n",
    "\n",
    "    def __str__(self):\n",
    "        return \"<\" + \" \".join(str(_) for _ in self._rows) + \">\"\n",
    "\n",
    "    @property\n",
    "    def rows(self) -> tuple:\n",
    "        return tuple(self._rows)\n",
    "\n",
    "    def nimming(self, ply: Nimply) -> None:\n",
    "        row, num_objects = ply\n",
    "        assert self._rows[row] >= num_objects\n",
    "        assert self._k is None or num_objects <= self._k\n",
    "        self._rows[row] -= num_objects\n"
   ]
  },
  {
   "cell_type": "markdown",
   "metadata": {},
   "source": [
    "## Sample (and silly) startegies "
   ]
  },
  {
   "cell_type": "code",
   "execution_count": 5,
   "metadata": {},
   "outputs": [],
   "source": [
    "def pure_random(state: Nim, genome=None) -> Nimply:\n",
    "    \"\"\"A completely random move\"\"\"\n",
    "    row = random.choice([r for r, c in enumerate(state.rows) if c > 0])\n",
    "    num_objects = random.randint(1, state.rows[row])\n",
    "    return Nimply(row, num_objects)\n"
   ]
  },
  {
   "cell_type": "code",
   "execution_count": 6,
   "metadata": {},
   "outputs": [],
   "source": [
    "def gabriele(state: Nim, genome=None) -> Nimply:\n",
    "    \"\"\"Pick always the maximum possible number of the lowest row\"\"\"\n",
    "    possible_moves = [(r, o) for r, c in enumerate(state.rows) for o in range(1, c + 1)]\n",
    "    return Nimply(*max(possible_moves, key=lambda m: (-m[0], m[1])))\n"
   ]
  },
  {
   "cell_type": "code",
   "execution_count": 7,
   "metadata": {},
   "outputs": [],
   "source": [
    "def adaptive(state: Nim, genome) -> Nimply:\n",
    "    \"\"\"A strategy that can adapt its parameters\"\"\"\n",
    "    rows = state.rows\n",
    "    non_zero = np.array(rows).astype(bool).sum()\n",
    "    row_t = math.floor(non_zero*genome[\"row\"])\n",
    "    row_a = -1\n",
    "    for i in range(len(rows)):\n",
    "        if rows[i] > 0:\n",
    "            row_a += 1\n",
    "        if row_a == row_t:\n",
    "            row_a = i\n",
    "            break\n",
    "    return Nimply(row_a, max(math.floor(rows[row_a]*genome[\"elements\"]), 1))"
   ]
  },
  {
   "cell_type": "code",
   "execution_count": 8,
   "metadata": {},
   "outputs": [],
   "source": [
    "def nim_sum(state: Nim) -> int:\n",
    "    tmp = np.array([tuple(int(x) for x in f\"{c:032b}\") for c in state.rows])\n",
    "    xor = tmp.sum(axis=0) % 2\n",
    "    return int(\"\".join(str(_) for _ in xor), base=2)\n",
    "\n",
    "\n",
    "def analize(raw: Nim) -> dict:\n",
    "    cooked = dict()\n",
    "    cooked[\"possible_moves\"] = dict()\n",
    "    for ply in (Nimply(r, o) for r, c in enumerate(raw.rows) for o in range(1, c + 1)):\n",
    "        tmp = deepcopy(raw)\n",
    "        tmp.nimming(ply)\n",
    "        cooked[\"possible_moves\"][ply] = nim_sum(tmp)\n",
    "    return cooked\n",
    "\n",
    "\n",
    "def optimal(state: Nim, genome=None) -> Nimply:\n",
    "    analysis = analize(state)\n",
    "    logging.debug(f\"analysis:\\n{pformat(analysis)}\")\n",
    "    spicy_moves = [ply for ply, ns in analysis[\"possible_moves\"].items() if ns != 0]\n",
    "    if not spicy_moves:\n",
    "        spicy_moves = list(analysis[\"possible_moves\"].keys())\n",
    "    ply = random.choice(spicy_moves)\n",
    "    return ply"
   ]
  },
  {
   "cell_type": "markdown",
   "metadata": {},
   "source": [
    "## Oversimplified match"
   ]
  },
  {
   "cell_type": "code",
   "execution_count": 8,
   "metadata": {},
   "outputs": [
    {
     "data": {
      "text/plain": [
       "'logging.getLogger().setLevel(logging.INFO)\\n\\nstrategy = (optimal, adaptive)\\n\\nnim = Nim(5)\\nlogging.info(f\"init : {nim}\")\\nplayer = 0\\nwhile nim:\\n    ply = strategy[player](nim)\\n    logging.info(f\"ply: player {player} plays {ply}\")\\n    nim.nimming(ply)\\n    logging.info(f\"status: {nim}\")\\n    player = 1 - player\\nlogging.info(f\"status: Player {player} won!\")'"
      ]
     },
     "execution_count": 8,
     "metadata": {},
     "output_type": "execute_result"
    }
   ],
   "source": [
    "'''logging.getLogger().setLevel(logging.INFO)\n",
    "\n",
    "strategy = (optimal, adaptive)\n",
    "\n",
    "nim = Nim(5)\n",
    "logging.info(f\"init : {nim}\")\n",
    "player = 0\n",
    "while nim:\n",
    "    ply = strategy[player](nim)\n",
    "    logging.info(f\"ply: player {player} plays {ply}\")\n",
    "    nim.nimming(ply)\n",
    "    logging.info(f\"status: {nim}\")\n",
    "    player = 1 - player\n",
    "logging.info(f\"status: Player {player} won!\")'''\n"
   ]
  },
  {
   "cell_type": "markdown",
   "metadata": {},
   "source": [
    "## Fitness and tweak functions"
   ]
  },
  {
   "cell_type": "code",
   "execution_count": 9,
   "metadata": {},
   "outputs": [],
   "source": [
    "def fitness(current_genome, strategy, games=1000):\n",
    "    wins = 0\n",
    "    for _ in range(games):\n",
    "        nim = Nim(5)\n",
    "        player = 0\n",
    "        while nim:\n",
    "            ply = strategy[player](nim, current_genome)\n",
    "            nim.nimming(ply)\n",
    "            player = 1 - player\n",
    "        if player == 1:\n",
    "            wins += 1\n",
    "    return float(wins)/games\n",
    "\n",
    "\n",
    "def tweak(genome, mu=0, sigma=np.array([0.1, 0.1])):\n",
    "    dist = np.array([np.random.normal(mu, sigma[0], 1), np.random.normal(mu, sigma[1], 1)])\n",
    "\n",
    "    candidate = {k: v for k, v in genome.items()}\n",
    "    candidate[\"row\"] += dist[0][0]\n",
    "    candidate[\"elements\"] += dist[1][0]\n",
    "\n",
    "    if candidate[\"row\"] >= 1:\n",
    "        candidate[\"row\"] = 0.999\n",
    "    elif candidate[\"row\"] < 0:\n",
    "        candidate[\"row\"] = 0\n",
    "\n",
    "    if candidate[\"elements\"] >= 1:\n",
    "        candidate[\"elements\"] = 0.999\n",
    "    elif candidate[\"elements\"] < 0:\n",
    "        candidate[\"elements\"] = 0\n",
    "    \n",
    "    return candidate"
   ]
  },
  {
   "cell_type": "markdown",
   "metadata": {},
   "source": [
    "## Training utility function"
   ]
  },
  {
   "cell_type": "code",
   "execution_count": 39,
   "metadata": {},
   "outputs": [],
   "source": [
    "def train(strategy, generations=100, population_size=100, mu=0, sigma=0.1, sigma2=0.01, lr=1/math.sqrt(2), self_adaptive=0, plus=True):\n",
    "    row = np.random.rand()\n",
    "    elements = np.random.rand()\n",
    "    if self_adaptive:\n",
    "        sigma = np.random.rand()\n",
    "    parent_genome = ({\"row\": row, \"elements\": elements}, fitness({\"row\": row, \"elements\": elements}, strategy))\n",
    "\n",
    "    for _ in tqdm(range(generations), file=sys.stdout):\n",
    "        best_genome = ({\"row\": 0, \"elements\": 0}, 0)\n",
    "        new_sigma = np.array([0, 0])\n",
    "        for i in range(population_size):\n",
    "            if self_adaptive == 2:\n",
    "                child_sigma = sigma*np.exp(lr*np.random.normal(sigma, sigma2, self_adaptive)) \n",
    "            elif self_adaptive == 1:\n",
    "                s = np.random.normal(sigma if type(sigma)==float else sigma[0], sigma2, self_adaptive)\n",
    "                child_sigma = sigma*np.exp(lr*np.array([s[0], s[0]])) #if type(sigma)==float else np.dot(sigma, np.exp(lr*np.array([s[0], s[0]])))\n",
    "            child_genome = tweak(parent_genome[0], mu, np.array([sigma, sigma]) if not self_adaptive else child_sigma)\n",
    "            fit = fitness(child_genome, strategy)\n",
    "            if fit > best_genome[1] or i == 0:\n",
    "                best_genome = (child_genome, fit)\n",
    "                if self_adaptive:\n",
    "                    new_sigma = child_sigma\n",
    "\n",
    "        if plus:\n",
    "            if best_genome[1] > parent_genome[1]:\n",
    "                parent_genome = best_genome\n",
    "                if self_adaptive:\n",
    "                    sigma = new_sigma\n",
    "                print(\"  \", parent_genome)\n",
    "        else:\n",
    "            parent_genome = best_genome\n",
    "            if self_adaptive:\n",
    "                sigma = new_sigma\n",
    "            print(\"  \", parent_genome)"
   ]
  },
  {
   "cell_type": "markdown",
   "metadata": {},
   "source": [
    "## Some trials"
   ]
  },
  {
   "cell_type": "code",
   "execution_count": 32,
   "metadata": {},
   "outputs": [],
   "source": [
    "strategy = (pure_random, adaptive)"
   ]
  },
  {
   "cell_type": "code",
   "execution_count": 23,
   "metadata": {},
   "outputs": [
    {
     "name": "stdout",
     "output_type": "stream",
     "text": [
      "  0%|          | 0/100 [00:00<?, ?it/s]   ({'row': 0.40753953997917386, 'elements': 0.9052833915795618}, 0.805)\n",
      "  6%|▌         | 6/100 [00:35<09:43,  6.21s/it]   ({'row': 0.4274663940012736, 'elements': 0.9894326288110677}, 0.806)\n",
      " 19%|█▉        | 19/100 [01:50<07:19,  5.43s/it]   ({'row': 0.40775311656425467, 'elements': 0.9309163060066133}, 0.809)\n",
      " 24%|██▍       | 24/100 [02:18<06:59,  5.52s/it]   ({'row': 0.3582286355372122, 'elements': 0.999}, 0.819)\n",
      "100%|██████████| 100/100 [09:25<00:00,  5.65s/it]\n"
     ]
    }
   ],
   "source": [
    "# basic\n",
    "\n",
    "train(strategy, generations=100, population_size=100, mu=0, sigma=0.1, plus=True)"
   ]
  },
  {
   "cell_type": "code",
   "execution_count": 40,
   "metadata": {},
   "outputs": [
    {
     "name": "stdout",
     "output_type": "stream",
     "text": [
      "  0%|          | 0/100 [00:00<?, ?it/s]   ({'row': 0.4872150846337658, 'elements': 0.9021528546355535}, 0.768)\n",
      "  1%|          | 1/100 [00:06<11:07,  6.74s/it]   ({'row': 0.4799438933249305, 'elements': 0.999}, 0.784)\n",
      "  2%|▏         | 2/100 [00:12<09:36,  5.88s/it]   ({'row': 0.4853228306529377, 'elements': 0.999}, 0.795)\n",
      "  3%|▎         | 3/100 [00:17<08:58,  5.56s/it]   ({'row': 0.396919694621348, 'elements': 0.999}, 0.808)\n",
      " 78%|███████▊  | 78/100 [07:22<01:59,  5.44s/it]   ({'row': 0.37691782820114317, 'elements': 0.9485641164840724}, 0.815)\n",
      "100%|██████████| 100/100 [09:21<00:00,  5.62s/it]\n"
     ]
    }
   ],
   "source": [
    "# self-adaptive (shared sigma)\n",
    "\n",
    "train(strategy, generations=100, population_size=100, mu=0, sigma=0.1, sigma2=0.01, plus=True, self_adaptive=1)"
   ]
  },
  {
   "cell_type": "code",
   "execution_count": 31,
   "metadata": {},
   "outputs": [
    {
     "name": "stdout",
     "output_type": "stream",
     "text": [
      "  0%|          | 0/100 [00:00<?, ?it/s]   ({'row': 0.2534725359715397, 'elements': 0.8989403929903849}, 0.778)\n",
      "  1%|          | 1/100 [00:06<10:01,  6.08s/it]   ({'row': 0.34414663874436535, 'elements': 0.999}, 0.798)\n",
      "  3%|▎         | 3/100 [00:16<08:53,  5.50s/it]   ({'row': 0.32083773034447194, 'elements': 0.999}, 0.8)\n",
      "  5%|▌         | 5/100 [00:27<08:32,  5.39s/it]   ({'row': 0.3757317733915228, 'elements': 0.999}, 0.801)\n",
      "  9%|▉         | 9/100 [00:48<07:55,  5.22s/it]   ({'row': 0.34848653770890253, 'elements': 0.9167249241163516}, 0.802)\n",
      " 12%|█▏        | 12/100 [01:03<07:41,  5.24s/it]   ({'row': 0.39942431964823244, 'elements': 0.999}, 0.81)\n",
      " 60%|██████    | 60/100 [05:28<03:27,  5.18s/it]   ({'row': 0.37296434443186366, 'elements': 0.999}, 0.815)\n",
      " 80%|████████  | 80/100 [07:32<02:04,  6.23s/it]   ({'row': 0.38546181299056315, 'elements': 0.999}, 0.819)\n",
      "100%|██████████| 100/100 [09:26<00:00,  5.66s/it]\n"
     ]
    }
   ],
   "source": [
    "# self-adaptive (different sigmas)\n",
    "\n",
    "train(strategy, generations=100, population_size=100, mu=0, sigma=0.1, sigma2=0.01, plus=True, self_adaptive=2)"
   ]
  }
 ],
 "metadata": {
  "kernelspec": {
   "display_name": "Python 3.10.7 ('ci22-dPIXJ0_o-py3.10')",
   "language": "python",
   "name": "python3"
  },
  "language_info": {
   "codemirror_mode": {
    "name": "ipython",
    "version": 3
   },
   "file_extension": ".py",
   "mimetype": "text/x-python",
   "name": "python",
   "nbconvert_exporter": "python",
   "pygments_lexer": "ipython3",
   "version": "3.10.11"
  },
  "vscode": {
   "interpreter": {
    "hash": "10197e8e2f2aa67e2c349105091c77f4cd384fce4877865f002d9ec653f96bc0"
   }
  }
 },
 "nbformat": 4,
 "nbformat_minor": 2
}
