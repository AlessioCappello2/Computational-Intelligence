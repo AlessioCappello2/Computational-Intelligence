{
 "cells": [
  {
   "cell_type": "markdown",
   "metadata": {},
   "source": [
    "Copyright **`(c)`** 2023 Giovanni Squillero `<giovanni.squillero@polito.it>`  \n",
    "[`https://github.com/squillero/computational-intelligence`](https://github.com/squillero/computational-intelligence)  \n",
    "Free for personal or classroom use; see [`LICENSE.md`](https://github.com/squillero/computational-intelligence/blob/master/LICENSE.md) for details.  "
   ]
  },
  {
   "cell_type": "code",
   "execution_count": 1,
   "metadata": {},
   "outputs": [],
   "source": [
    "from random import random\n",
    "from functools import reduce\n",
    "from collections import namedtuple\n",
    "from queue import PriorityQueue, SimpleQueue, LifoQueue\n",
    "\n",
    "import numpy as np\n",
    "import matplotlib.pyplot as plt"
   ]
  },
  {
   "cell_type": "code",
   "execution_count": 2,
   "metadata": {},
   "outputs": [],
   "source": [
    "PROBLEM_SIZE = 10\n",
    "NUM_SETS = 28\n",
    "SETS = tuple(\n",
    "    np.array([random() < 0.3 for _ in range(PROBLEM_SIZE)])\n",
    "    for _ in range(NUM_SETS)\n",
    ")\n",
    "State = namedtuple('State', ['taken', 'not_taken'])"
   ]
  },
  {
   "cell_type": "code",
   "execution_count": 3,
   "metadata": {},
   "outputs": [],
   "source": [
    "def goal_check(state):\n",
    "    return np.all(reduce(\n",
    "        np.logical_or,\n",
    "        [SETS[i] for i in state.taken],\n",
    "        np.array([False for _ in range(PROBLEM_SIZE)]),\n",
    "    ))\n",
    "\n",
    "def sub_goal_check(state, reduced_sets):\n",
    "    return np.all(reduce(\n",
    "        np.logical_or,\n",
    "        [reduced_sets[i] for i in state.taken],\n",
    "        np.array([False for _ in range(PROBLEM_SIZE//4)]),\n",
    "    ))\n",
    "\n",
    "def h(state):\n",
    "    if not sampling:\n",
    "        indexes = np.arange(PROBLEM_SIZE)\n",
    "        indexes = indexes[np.logical_not(reduce(\n",
    "                np.logical_or,\n",
    "                [SETS[i] for i in state.taken],\n",
    "                np.array([False for _ in range(PROBLEM_SIZE)]),\n",
    "            ))]\n",
    "        reduced_sets = list(np.sum(SETS[val][indexes]) for val in state.not_taken)\n",
    "        reduced_sets.sort(reverse=True)\n",
    "        count = 0\n",
    "        k = 0\n",
    "        for j in range(len(reduced_sets)):\n",
    "            if count >= indexes.shape[0]:\n",
    "                break\n",
    "            count += reduced_sets[j]\n",
    "            k += 1\n",
    "        return k\n",
    "    else:\n",
    "        indexes = np.arange(PROBLEM_SIZE)\n",
    "        indexes = indexes[np.logical_not(reduce(\n",
    "                np.logical_or,\n",
    "                [SETS[i] for i in state.taken],\n",
    "                np.array([False for _ in range(PROBLEM_SIZE)]),\n",
    "            ))]\n",
    "        np.random.shuffle(indexes)\n",
    "        estimates = np.zeros(4)\n",
    "        for i in range(4):\n",
    "            reduced_sets = list(np.sum(SETS[val][indexes[i*PROBLEM_SIZE//4:((i+1)*PROBLEM_SIZE//4)]]) for val in state.not_taken)\n",
    "            reduced_sets.sort(reverse=True)\n",
    "            count = 0\n",
    "            k = 0\n",
    "            for j in range(len(reduced_sets)):\n",
    "                if count >= indexes[i*PROBLEM_SIZE//4:((i+1)*PROBLEM_SIZE//4)].shape[0]:\n",
    "                    break\n",
    "                count += reduced_sets[j]\n",
    "                k += 1\n",
    "            estimates[i] = k\n",
    "        return np.max(estimates)\n",
    "\n",
    "def g(state):\n",
    "    return len(state.taken)"
   ]
  },
  {
   "cell_type": "code",
   "execution_count": 4,
   "metadata": {},
   "outputs": [],
   "source": [
    "assert goal_check(\n",
    "    State(set(range(NUM_SETS)), set())\n",
    "), \"Problem not solvable\""
   ]
  },
  {
   "cell_type": "code",
   "execution_count": 5,
   "metadata": {},
   "outputs": [
    {
     "name": "stdout",
     "output_type": "stream",
     "text": [
      "Solved in 12 steps (2 tiles)\n"
     ]
    }
   ],
   "source": [
    "A_star = True\n",
    "sampling = True\n",
    "\n",
    "frontier = PriorityQueue()\n",
    "#frontier = SimpleQueue()\n",
    "state = State(set(), set(range(NUM_SETS)))\n",
    "frontier.put((0, state))\n",
    "\n",
    "counter = 0\n",
    "_, current_state = frontier.get()\n",
    "while not goal_check(current_state):\n",
    "    counter += 1\n",
    "    for action in current_state[1]:\n",
    "        new_state = State(\n",
    "            current_state.taken ^ {action},\n",
    "            current_state.not_taken ^ {action},\n",
    "        )\n",
    "        frontier.put((h(new_state) if not A_star else h(new_state)+g(new_state), new_state))\n",
    "    _, current_state = frontier.get()\n",
    "\n",
    "print(\n",
    "    f\"Solved in {counter:,} steps ({len(current_state.taken)} tiles)\"\n",
    ")"
   ]
  },
  {
   "cell_type": "code",
   "execution_count": 6,
   "metadata": {},
   "outputs": [
    {
     "data": {
      "text/plain": [
       "State(taken={1, 20}, not_taken={0, 2, 3, 4, 5, 6, 7, 8, 9, 10, 11, 12, 13, 14, 15, 16, 17, 18, 19, 21, 22, 23, 24, 25, 26, 27})"
      ]
     },
     "execution_count": 6,
     "metadata": {},
     "output_type": "execute_result"
    }
   ],
   "source": [
    "current_state"
   ]
  }
 ],
 "metadata": {
  "kernelspec": {
   "display_name": "ci-P-7LqQ3C-py3.11",
   "language": "python",
   "name": "python3"
  },
  "language_info": {
   "codemirror_mode": {
    "name": "ipython",
    "version": 3
   },
   "file_extension": ".py",
   "mimetype": "text/x-python",
   "name": "python",
   "nbconvert_exporter": "python",
   "pygments_lexer": "ipython3",
   "version": "3.10.11"
  }
 },
 "nbformat": 4,
 "nbformat_minor": 2
}
