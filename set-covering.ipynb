{
 "cells": [
  {
   "cell_type": "markdown",
   "metadata": {},
   "source": [
    "Copyright **`(c)`** 2023 Giovanni Squillero `<giovanni.squillero@polito.it>`  \n",
    "[`https://github.com/squillero/computational-intelligence`](https://github.com/squillero/computational-intelligence)  \n",
    "Free for personal or classroom use; see [`LICENSE.md`](https://github.com/squillero/computational-intelligence/blob/master/LICENSE.md) for details.  "
   ]
  },
  {
   "cell_type": "code",
   "execution_count": 8,
   "metadata": {},
   "outputs": [],
   "source": [
    "from random import random\n",
    "from functools import reduce\n",
    "from collections import namedtuple\n",
    "from queue import PriorityQueue, SimpleQueue, LifoQueue\n",
    "\n",
    "import math\n",
    "import numpy as np"
   ]
  },
  {
   "cell_type": "code",
   "execution_count": 26,
   "metadata": {},
   "outputs": [],
   "source": [
    "PROBLEM_SIZE = 20\n",
    "NUM_SETS = 200\n",
    "SETS = tuple(\n",
    "    np.array([random() < 0.3 for _ in range(PROBLEM_SIZE)])\n",
    "    for _ in range(NUM_SETS)\n",
    ")\n",
    "State = namedtuple('State', ['taken', 'not_taken'])"
   ]
  },
  {
   "cell_type": "code",
   "execution_count": 29,
   "metadata": {},
   "outputs": [],
   "source": [
    "def goal_check(state):\n",
    "    return np.all(reduce(\n",
    "        np.logical_or,\n",
    "        [SETS[i] for i in state.taken],\n",
    "        np.array([False for _ in range(PROBLEM_SIZE)]),\n",
    "    ))\n",
    "\n",
    "def h(state):\n",
    "    indexes = np.arange(PROBLEM_SIZE)\n",
    "    indexes = indexes[np.logical_not(reduce(\n",
    "            np.logical_or,\n",
    "            [SETS[i] for i in state.taken],\n",
    "            np.array([False for _ in range(PROBLEM_SIZE)]),\n",
    "        ))]\n",
    "\n",
    "    if indexes.shape[0] == 0:\n",
    "        return 0\n",
    "\n",
    "    if not random_sampling:\n",
    "        reduced_sets = list(np.sum(SETS[val][indexes]) for val in state.not_taken)\n",
    "        reduced_sets.sort(reverse=True)\n",
    "        count = 0\n",
    "        k = 0\n",
    "        for j in range(len(reduced_sets)):\n",
    "            if count >= indexes.shape[0]:\n",
    "                break\n",
    "            count += reduced_sets[j]\n",
    "            k += 1\n",
    "        return k\n",
    "    else:\n",
    "        '''np.random.shuffle(indexes)\n",
    "        estimates = np.zeros(4)\n",
    "        for i in range(4):\n",
    "            reduced_sets = list(np.sum(SETS[val][indexes[i*PROBLEM_SIZE//4:((i+1)*PROBLEM_SIZE//4)]]) for val in state.not_taken)\n",
    "            reduced_sets.sort(reverse=True)\n",
    "            count = 0\n",
    "            k = 0\n",
    "            for j in range(len(reduced_sets)):\n",
    "                if count >= indexes[i*PROBLEM_SIZE//4:((i+1)*PROBLEM_SIZE//4)].shape[0]:\n",
    "                    break\n",
    "                count += reduced_sets[j]\n",
    "                k += 1\n",
    "            estimates[i] = k\n",
    "        return np.max(estimates)'''\n",
    "       \n",
    "        '''np.random.shuffle(indexes)\n",
    "        estimates = np.zeros(4)\n",
    "        for i in range(4):\n",
    "            reduced_sets =  list(\n",
    "                np.sum(SETS[val][indexes[i*indexes.shape[0]//4:((i+1)*indexes.shape[0]//4)]]) \n",
    "                for val in state.not_taken) if i < 3 else list(np.sum(SETS[val][indexes[i*indexes.shape[0]//4:]]) for val in state.not_taken)\n",
    "            reduced_sets.sort(reverse=True)\n",
    "            \n",
    "            count = 0\n",
    "            k = 0\n",
    "            for j in range(len(reduced_sets)):\n",
    "                if count >= (indexes[i*indexes.shape[0]//4:((i+1)*indexes.shape[0]//4)].shape[0] if i < 3 else indexes[i*indexes.shape[0]//4:].shape[0]):\n",
    "                    break\n",
    "                count += reduced_sets[j]\n",
    "                k += 1\n",
    "            estimates[i] = k\n",
    "        return np.max(estimates)'''\n",
    "        estimates = np.zeros(3)\n",
    "        for i in range(3):\n",
    "            np.random.shuffle(indexes)\n",
    "            samples = indexes[:math.ceil(np.sqrt(indexes.shape[0]))]\n",
    "            reduced_sets = list(np.sum(SETS[val][samples]) for val in state.not_taken)\n",
    "            reduced_sets.sort(reverse=True)\n",
    "            count = 0\n",
    "            k = 0\n",
    "            for j in range(len(reduced_sets)):\n",
    "                if count >= samples.shape[0]:\n",
    "                    break\n",
    "                count += reduced_sets[j]\n",
    "                k += 1\n",
    "            estimates[i] = k\n",
    "        return np.max(estimates)\n",
    "\n",
    "\n",
    "\n",
    "\n",
    "\n",
    "def g(state):\n",
    "    return len(state.taken)"
   ]
  },
  {
   "cell_type": "code",
   "execution_count": 27,
   "metadata": {},
   "outputs": [],
   "source": [
    "assert goal_check(\n",
    "    State(set(range(NUM_SETS)), set())\n",
    "), \"Problem not solvable\""
   ]
  },
  {
   "cell_type": "code",
   "execution_count": 31,
   "metadata": {},
   "outputs": [
    {
     "ename": "KeyboardInterrupt",
     "evalue": "",
     "output_type": "error",
     "traceback": [
      "\u001b[1;31m---------------------------------------------------------------------------\u001b[0m",
      "\u001b[1;31mKeyboardInterrupt\u001b[0m                         Traceback (most recent call last)",
      "\u001b[1;32md:\\Politecnico - Magistrale\\Computational intelligence\\CI\\computational-intelligence\\set-covering.ipynb Cell 6\u001b[0m line \u001b[0;36m1\n\u001b[0;32m     <a href='vscode-notebook-cell:/d%3A/Politecnico%20-%20Magistrale/Computational%20intelligence/CI/computational-intelligence/set-covering.ipynb#W5sZmlsZQ%3D%3D?line=11'>12</a>\u001b[0m     \u001b[39mfor\u001b[39;00m action \u001b[39min\u001b[39;00m current_state[\u001b[39m1\u001b[39m]:\n\u001b[0;32m     <a href='vscode-notebook-cell:/d%3A/Politecnico%20-%20Magistrale/Computational%20intelligence/CI/computational-intelligence/set-covering.ipynb#W5sZmlsZQ%3D%3D?line=12'>13</a>\u001b[0m         new_state \u001b[39m=\u001b[39m State(\n\u001b[0;32m     <a href='vscode-notebook-cell:/d%3A/Politecnico%20-%20Magistrale/Computational%20intelligence/CI/computational-intelligence/set-covering.ipynb#W5sZmlsZQ%3D%3D?line=13'>14</a>\u001b[0m             current_state\u001b[39m.\u001b[39mtaken \u001b[39m^\u001b[39m {action},\n\u001b[0;32m     <a href='vscode-notebook-cell:/d%3A/Politecnico%20-%20Magistrale/Computational%20intelligence/CI/computational-intelligence/set-covering.ipynb#W5sZmlsZQ%3D%3D?line=14'>15</a>\u001b[0m             current_state\u001b[39m.\u001b[39mnot_taken \u001b[39m^\u001b[39m {action},\n\u001b[0;32m     <a href='vscode-notebook-cell:/d%3A/Politecnico%20-%20Magistrale/Computational%20intelligence/CI/computational-intelligence/set-covering.ipynb#W5sZmlsZQ%3D%3D?line=15'>16</a>\u001b[0m         )\n\u001b[1;32m---> <a href='vscode-notebook-cell:/d%3A/Politecnico%20-%20Magistrale/Computational%20intelligence/CI/computational-intelligence/set-covering.ipynb#W5sZmlsZQ%3D%3D?line=16'>17</a>\u001b[0m         frontier\u001b[39m.\u001b[39mput((h(new_state)\u001b[39m+\u001b[39mg(new_state), new_state))\n\u001b[0;32m     <a href='vscode-notebook-cell:/d%3A/Politecnico%20-%20Magistrale/Computational%20intelligence/CI/computational-intelligence/set-covering.ipynb#W5sZmlsZQ%3D%3D?line=17'>18</a>\u001b[0m     _, current_state \u001b[39m=\u001b[39m frontier\u001b[39m.\u001b[39mget()\n\u001b[0;32m     <a href='vscode-notebook-cell:/d%3A/Politecnico%20-%20Magistrale/Computational%20intelligence/CI/computational-intelligence/set-covering.ipynb#W5sZmlsZQ%3D%3D?line=19'>20</a>\u001b[0m \u001b[39mprint\u001b[39m(\n\u001b[0;32m     <a href='vscode-notebook-cell:/d%3A/Politecnico%20-%20Magistrale/Computational%20intelligence/CI/computational-intelligence/set-covering.ipynb#W5sZmlsZQ%3D%3D?line=20'>21</a>\u001b[0m     \u001b[39mf\u001b[39m\u001b[39m\"\u001b[39m\u001b[39mSolved in \u001b[39m\u001b[39m{\u001b[39;00mcounter\u001b[39m:\u001b[39;00m\u001b[39m,\u001b[39m\u001b[39m}\u001b[39;00m\u001b[39m steps (\u001b[39m\u001b[39m{\u001b[39;00m\u001b[39mlen\u001b[39m(current_state\u001b[39m.\u001b[39mtaken)\u001b[39m}\u001b[39;00m\u001b[39m tiles)\u001b[39m\u001b[39m\"\u001b[39m\n\u001b[0;32m     <a href='vscode-notebook-cell:/d%3A/Politecnico%20-%20Magistrale/Computational%20intelligence/CI/computational-intelligence/set-covering.ipynb#W5sZmlsZQ%3D%3D?line=21'>22</a>\u001b[0m )\n",
      "\u001b[1;32md:\\Politecnico - Magistrale\\Computational intelligence\\CI\\computational-intelligence\\set-covering.ipynb Cell 6\u001b[0m line \u001b[0;36m6\n\u001b[0;32m     <a href='vscode-notebook-cell:/d%3A/Politecnico%20-%20Magistrale/Computational%20intelligence/CI/computational-intelligence/set-covering.ipynb#W5sZmlsZQ%3D%3D?line=64'>65</a>\u001b[0m np\u001b[39m.\u001b[39mrandom\u001b[39m.\u001b[39mshuffle(indexes)\n\u001b[0;32m     <a href='vscode-notebook-cell:/d%3A/Politecnico%20-%20Magistrale/Computational%20intelligence/CI/computational-intelligence/set-covering.ipynb#W5sZmlsZQ%3D%3D?line=65'>66</a>\u001b[0m samples \u001b[39m=\u001b[39m indexes[:math\u001b[39m.\u001b[39mceil(np\u001b[39m.\u001b[39msqrt(indexes\u001b[39m.\u001b[39mshape[\u001b[39m0\u001b[39m]))]\n\u001b[1;32m---> <a href='vscode-notebook-cell:/d%3A/Politecnico%20-%20Magistrale/Computational%20intelligence/CI/computational-intelligence/set-covering.ipynb#W5sZmlsZQ%3D%3D?line=66'>67</a>\u001b[0m reduced_sets \u001b[39m=\u001b[39m \u001b[39mlist\u001b[39;49m(np\u001b[39m.\u001b[39;49msum(SETS[val][samples]) \u001b[39mfor\u001b[39;49;00m val \u001b[39min\u001b[39;49;00m state\u001b[39m.\u001b[39;49mnot_taken)\n\u001b[0;32m     <a href='vscode-notebook-cell:/d%3A/Politecnico%20-%20Magistrale/Computational%20intelligence/CI/computational-intelligence/set-covering.ipynb#W5sZmlsZQ%3D%3D?line=67'>68</a>\u001b[0m reduced_sets\u001b[39m.\u001b[39msort(reverse\u001b[39m=\u001b[39m\u001b[39mTrue\u001b[39;00m)\n\u001b[0;32m     <a href='vscode-notebook-cell:/d%3A/Politecnico%20-%20Magistrale/Computational%20intelligence/CI/computational-intelligence/set-covering.ipynb#W5sZmlsZQ%3D%3D?line=68'>69</a>\u001b[0m count \u001b[39m=\u001b[39m \u001b[39m0\u001b[39m\n",
      "\u001b[1;32md:\\Politecnico - Magistrale\\Computational intelligence\\CI\\computational-intelligence\\set-covering.ipynb Cell 6\u001b[0m line \u001b[0;36m6\n\u001b[0;32m     <a href='vscode-notebook-cell:/d%3A/Politecnico%20-%20Magistrale/Computational%20intelligence/CI/computational-intelligence/set-covering.ipynb#W5sZmlsZQ%3D%3D?line=64'>65</a>\u001b[0m np\u001b[39m.\u001b[39mrandom\u001b[39m.\u001b[39mshuffle(indexes)\n\u001b[0;32m     <a href='vscode-notebook-cell:/d%3A/Politecnico%20-%20Magistrale/Computational%20intelligence/CI/computational-intelligence/set-covering.ipynb#W5sZmlsZQ%3D%3D?line=65'>66</a>\u001b[0m samples \u001b[39m=\u001b[39m indexes[:math\u001b[39m.\u001b[39mceil(np\u001b[39m.\u001b[39msqrt(indexes\u001b[39m.\u001b[39mshape[\u001b[39m0\u001b[39m]))]\n\u001b[1;32m---> <a href='vscode-notebook-cell:/d%3A/Politecnico%20-%20Magistrale/Computational%20intelligence/CI/computational-intelligence/set-covering.ipynb#W5sZmlsZQ%3D%3D?line=66'>67</a>\u001b[0m reduced_sets \u001b[39m=\u001b[39m \u001b[39mlist\u001b[39m(np\u001b[39m.\u001b[39;49msum(SETS[val][samples]) \u001b[39mfor\u001b[39;00m val \u001b[39min\u001b[39;00m state\u001b[39m.\u001b[39mnot_taken)\n\u001b[0;32m     <a href='vscode-notebook-cell:/d%3A/Politecnico%20-%20Magistrale/Computational%20intelligence/CI/computational-intelligence/set-covering.ipynb#W5sZmlsZQ%3D%3D?line=67'>68</a>\u001b[0m reduced_sets\u001b[39m.\u001b[39msort(reverse\u001b[39m=\u001b[39m\u001b[39mTrue\u001b[39;00m)\n\u001b[0;32m     <a href='vscode-notebook-cell:/d%3A/Politecnico%20-%20Magistrale/Computational%20intelligence/CI/computational-intelligence/set-covering.ipynb#W5sZmlsZQ%3D%3D?line=68'>69</a>\u001b[0m count \u001b[39m=\u001b[39m \u001b[39m0\u001b[39m\n",
      "File \u001b[1;32md:\\Politecnico - Magistrale\\Computational intelligence\\aEnv\\dev-env\\lib\\site-packages\\numpy\\core\\fromnumeric.py:2172\u001b[0m, in \u001b[0;36m_sum_dispatcher\u001b[1;34m(a, axis, dtype, out, keepdims, initial, where)\u001b[0m\n\u001b[0;32m   2102\u001b[0m \u001b[39m    \u001b[39m\u001b[39m\"\"\"\u001b[39;00m\n\u001b[0;32m   2103\u001b[0m \u001b[39m    Clip (limit) the values in an array.\u001b[39;00m\n\u001b[0;32m   2104\u001b[0m \n\u001b[1;32m   (...)\u001b[0m\n\u001b[0;32m   2167\u001b[0m \n\u001b[0;32m   2168\u001b[0m \u001b[39m    \"\"\"\u001b[39;00m\n\u001b[0;32m   2169\u001b[0m     \u001b[39mreturn\u001b[39;00m _wrapfunc(a, \u001b[39m'\u001b[39m\u001b[39mclip\u001b[39m\u001b[39m'\u001b[39m, a_min, a_max, out\u001b[39m=\u001b[39mout, \u001b[39m*\u001b[39m\u001b[39m*\u001b[39mkwargs)\n\u001b[1;32m-> 2172\u001b[0m \u001b[39mdef\u001b[39;00m \u001b[39m_sum_dispatcher\u001b[39m(a, axis\u001b[39m=\u001b[39m\u001b[39mNone\u001b[39;00m, dtype\u001b[39m=\u001b[39m\u001b[39mNone\u001b[39;00m, out\u001b[39m=\u001b[39m\u001b[39mNone\u001b[39;00m, keepdims\u001b[39m=\u001b[39m\u001b[39mNone\u001b[39;00m,\n\u001b[0;32m   2173\u001b[0m                     initial\u001b[39m=\u001b[39m\u001b[39mNone\u001b[39;00m, where\u001b[39m=\u001b[39m\u001b[39mNone\u001b[39;00m):\n\u001b[0;32m   2174\u001b[0m     \u001b[39mreturn\u001b[39;00m (a, out)\n\u001b[0;32m   2177\u001b[0m \u001b[39m@array_function_dispatch\u001b[39m(_sum_dispatcher)\n\u001b[0;32m   2178\u001b[0m \u001b[39mdef\u001b[39;00m \u001b[39msum\u001b[39m(a, axis\u001b[39m=\u001b[39m\u001b[39mNone\u001b[39;00m, dtype\u001b[39m=\u001b[39m\u001b[39mNone\u001b[39;00m, out\u001b[39m=\u001b[39m\u001b[39mNone\u001b[39;00m, keepdims\u001b[39m=\u001b[39mnp\u001b[39m.\u001b[39m_NoValue,\n\u001b[0;32m   2179\u001b[0m         initial\u001b[39m=\u001b[39mnp\u001b[39m.\u001b[39m_NoValue, where\u001b[39m=\u001b[39mnp\u001b[39m.\u001b[39m_NoValue):\n",
      "\u001b[1;31mKeyboardInterrupt\u001b[0m: "
     ]
    }
   ],
   "source": [
    "random_sampling = True\n",
    "\n",
    "frontier = PriorityQueue()\n",
    "#frontier = SimpleQueue()\n",
    "state = State(set(), set(range(NUM_SETS)))\n",
    "frontier.put((0, state))\n",
    "\n",
    "counter = 0\n",
    "_, current_state = frontier.get()\n",
    "while not goal_check(current_state):\n",
    "    counter += 1\n",
    "    for action in current_state[1]:\n",
    "        new_state = State(\n",
    "            current_state.taken ^ {action},\n",
    "            current_state.not_taken ^ {action},\n",
    "        )\n",
    "        frontier.put((h(new_state)+g(new_state), new_state))\n",
    "    _, current_state = frontier.get()\n",
    "\n",
    "print(\n",
    "    f\"Solved in {counter:,} steps ({len(current_state.taken)} tiles)\"\n",
    ")"
   ]
  },
  {
   "cell_type": "code",
   "execution_count": 30,
   "metadata": {},
   "outputs": [
    {
     "data": {
      "text/plain": [
       "State(taken={193, 29, 14}, not_taken={0, 1, 2, 3, 4, 5, 6, 7, 8, 9, 10, 11, 12, 13, 15, 16, 17, 18, 19, 20, 21, 22, 23, 24, 25, 26, 27, 28, 30, 31, 32, 33, 34, 35, 36, 37, 38, 39, 40, 41, 42, 43, 44, 45, 46, 47, 48, 49, 50, 51, 52, 53, 54, 55, 56, 57, 58, 59, 60, 61, 62, 63, 64, 65, 66, 67, 68, 69, 70, 71, 72, 73, 74, 75, 76, 77, 78, 79, 80, 81, 82, 83, 84, 85, 86, 87, 88, 89, 90, 91, 92, 93, 94, 95, 96, 97, 98, 99, 100, 101, 102, 103, 104, 105, 106, 107, 108, 109, 110, 111, 112, 113, 114, 115, 116, 117, 118, 119, 120, 121, 122, 123, 124, 125, 126, 127, 128, 129, 130, 131, 132, 133, 134, 135, 136, 137, 138, 139, 140, 141, 142, 143, 144, 145, 146, 147, 148, 149, 150, 151, 152, 153, 154, 155, 156, 157, 158, 159, 160, 161, 162, 163, 164, 165, 166, 167, 168, 169, 170, 171, 172, 173, 174, 175, 176, 177, 178, 179, 180, 181, 182, 183, 184, 185, 186, 187, 188, 189, 190, 191, 192, 194, 195, 196, 197, 198, 199})"
      ]
     },
     "execution_count": 30,
     "metadata": {},
     "output_type": "execute_result"
    }
   ],
   "source": [
    "current_state"
   ]
  }
 ],
 "metadata": {
  "kernelspec": {
   "display_name": "ci-P-7LqQ3C-py3.11",
   "language": "python",
   "name": "python3"
  },
  "language_info": {
   "codemirror_mode": {
    "name": "ipython",
    "version": 3
   },
   "file_extension": ".py",
   "mimetype": "text/x-python",
   "name": "python",
   "nbconvert_exporter": "python",
   "pygments_lexer": "ipython3",
   "version": "3.10.11"
  }
 },
 "nbformat": 4,
 "nbformat_minor": 2
}
